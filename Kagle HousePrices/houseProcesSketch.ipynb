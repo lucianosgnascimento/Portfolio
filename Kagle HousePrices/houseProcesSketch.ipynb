{
 "cells": [
  {
   "cell_type": "code",
   "execution_count": 197,
   "metadata": {},
   "outputs": [],
   "source": [
    "import pandas as pd\n",
    "from sklearn import datasets\n",
    "import numpy as np"
   ]
  },
  {
   "cell_type": "code",
   "execution_count": 198,
   "metadata": {},
   "outputs": [],
   "source": [
    "data = pd.read_csv('data/train.csv')\n",
    "\n",
    "#data.head()"
   ]
  },
  {
   "cell_type": "code",
   "execution_count": 193,
   "metadata": {},
   "outputs": [],
   "source": [
    "data.head()\n",
    "\n",
    "data = data2"
   ]
  },
  {
   "cell_type": "code",
   "execution_count": 199,
   "metadata": {},
   "outputs": [],
   "source": [
    "x = data.drop(['SalePrice'],axis=1)\n",
    "y = data['SalePrice']"
   ]
  },
  {
   "cell_type": "code",
   "execution_count": 200,
   "metadata": {},
   "outputs": [],
   "source": [
    "x = x.drop(['MasVnrArea'],axis=1)\n",
    "x = x.drop(['GarageYrBlt'],axis=1)\n",
    "x = x.drop(['LotFrontage'],axis=1)"
   ]
  },
  {
   "cell_type": "code",
   "execution_count": 163,
   "metadata": {},
   "outputs": [
    {
     "data": {
      "text/plain": [
       "40"
      ]
     },
     "execution_count": 163,
     "metadata": {},
     "output_type": "execute_result"
    }
   ],
   "source": [
    "len(trash)"
   ]
  },
  {
   "cell_type": "code",
   "execution_count": 201,
   "metadata": {},
   "outputs": [
    {
     "data": {
      "text/plain": [
       "Id               0\n",
       "Fireplaces       0\n",
       "Functional       0\n",
       "TotRmsAbvGrd     0\n",
       "KitchenQual      0\n",
       "                ..\n",
       "Exterior1st      0\n",
       "RoofMatl         0\n",
       "RoofStyle        0\n",
       "Foundation       0\n",
       "SaleCondition    0\n",
       "Length: 77, dtype: int64"
      ]
     },
     "execution_count": 201,
     "metadata": {},
     "output_type": "execute_result"
    }
   ],
   "source": [
    "from sklearn import preprocessing\n",
    "\n",
    "le = preprocessing.LabelEncoder()\n",
    "\n",
    "#x.dtypes\n",
    "converts = []\n",
    "contador = 0\n",
    "for i in x.dtypes:\n",
    "    if 'object' == str(i):\n",
    "        converts.append(contador)\n",
    "    contador = contador + 1\n",
    "\n",
    "converts\n",
    "\n",
    "for i in converts:\n",
    "    x.iloc[:,i] = le.fit_transform(x.iloc[:,i])\n",
    "\n",
    "\n",
    "x.dtypes\n",
    "\n",
    "x.isna().sum().sort_values()\n"
   ]
  },
  {
   "cell_type": "code",
   "execution_count": 202,
   "metadata": {},
   "outputs": [],
   "source": [
    "from sklearn.model_selection import train_test_split\n",
    "\n",
    "\n",
    "x_train,x_test, y_train, y_test = train_test_split(x,y,test_size=0.33,random_state=13)\n"
   ]
  },
  {
   "cell_type": "code",
   "execution_count": null,
   "metadata": {},
   "outputs": [],
   "source": [
    "data = data[data['MasVnrArea'].notna()]\n",
    "data = data[data['GarageYrBlt'].notna()]\n",
    "data = data[data['LotFrontage'].notna()]\n",
    "\n",
    "\n"
   ]
  },
  {
   "cell_type": "code",
   "execution_count": null,
   "metadata": {},
   "outputs": [
    {
     "data": {
      "text/plain": [
       "1121"
      ]
     },
     "execution_count": 121,
     "metadata": {},
     "output_type": "execute_result"
    }
   ],
   "source": [
    "len(data2)"
   ]
  },
  {
   "cell_type": "code",
   "execution_count": 206,
   "metadata": {},
   "outputs": [
    {
     "data": {
      "text/plain": [
       "RandomForestRegressor(max_depth=15, min_samples_leaf=2, min_samples_split=3,\n",
       "                      n_estimators=200)"
      ]
     },
     "execution_count": 206,
     "metadata": {},
     "output_type": "execute_result"
    }
   ],
   "source": [
    "from sklearn.tree import DecisionTreeRegressor\n",
    "from sklearn.ensemble import RandomForestRegressor\n",
    "\n",
    "from sklearn.ensemble import GradientBoostingRegressor\n",
    "\n",
    "tree = DecisionTreeRegressor(criterion='mse')    \n",
    "\n",
    "model = RandomForestRegressor(n_estimators=200,criterion='squared_error',max_depth=15, min_samples_split= 3,min_samples_leaf=2)\n",
    "#model = GradientBoostingRegressor(loss='squared_error', learning_rate= 0.1 , n_estimators = 100)\n",
    "\n",
    "model.fit(x_train, y_train)"
   ]
  },
  {
   "cell_type": "code",
   "execution_count": 210,
   "metadata": {},
   "outputs": [
    {
     "name": "stdout",
     "output_type": "stream",
     "text": [
      "Fitting 10 folds for each of 10 candidates, totalling 100 fits\n",
      "[CV 1/10] END max_depth=10, min_samples_split=5, n_estimators=100; neg_mean_squared_error: (test=-746441380.449) r2: (test=0.876) total time=   0.7s\n",
      "[CV 2/10] END max_depth=10, min_samples_split=5, n_estimators=100; neg_mean_squared_error: (test=-683253439.885) r2: (test=0.867) total time=   0.7s\n",
      "[CV 3/10] END max_depth=10, min_samples_split=5, n_estimators=100; neg_mean_squared_error: (test=-397939202.140) r2: (test=0.914) total time=   0.7s\n",
      "[CV 4/10] END max_depth=10, min_samples_split=5, n_estimators=100; neg_mean_squared_error: (test=-694253786.927) r2: (test=0.847) total time=   0.6s\n",
      "[CV 5/10] END max_depth=10, min_samples_split=5, n_estimators=100; neg_mean_squared_error: (test=-1021702454.246) r2: (test=0.815) total time=   0.7s\n",
      "[CV 6/10] END max_depth=10, min_samples_split=5, n_estimators=100; neg_mean_squared_error: (test=-1059484355.928) r2: (test=0.872) total time=   0.6s\n",
      "[CV 7/10] END max_depth=10, min_samples_split=5, n_estimators=100; neg_mean_squared_error: (test=-1180488959.999) r2: (test=0.842) total time=   0.7s\n",
      "[CV 8/10] END max_depth=10, min_samples_split=5, n_estimators=100; neg_mean_squared_error: (test=-487529340.186) r2: (test=0.902) total time=   0.6s\n",
      "[CV 9/10] END max_depth=10, min_samples_split=5, n_estimators=100; neg_mean_squared_error: (test=-468422321.337) r2: (test=0.921) total time=   0.7s\n",
      "[CV 10/10] END max_depth=10, min_samples_split=5, n_estimators=100; neg_mean_squared_error: (test=-713906762.765) r2: (test=0.904) total time=   0.7s\n",
      "[CV 1/10] END max_depth=5, min_samples_split=5, n_estimators=100; neg_mean_squared_error: (test=-1001348788.887) r2: (test=0.834) total time=   0.4s\n",
      "[CV 2/10] END max_depth=5, min_samples_split=5, n_estimators=100; neg_mean_squared_error: (test=-758308393.319) r2: (test=0.853) total time=   0.9s\n",
      "[CV 3/10] END max_depth=5, min_samples_split=5, n_estimators=100; neg_mean_squared_error: (test=-485103417.287) r2: (test=0.895) total time=   0.3s\n",
      "[CV 4/10] END max_depth=5, min_samples_split=5, n_estimators=100; neg_mean_squared_error: (test=-899315204.191) r2: (test=0.802) total time=   0.3s\n",
      "[CV 5/10] END max_depth=5, min_samples_split=5, n_estimators=100; neg_mean_squared_error: (test=-1119733408.980) r2: (test=0.797) total time=   0.4s\n",
      "[CV 6/10] END max_depth=5, min_samples_split=5, n_estimators=100; neg_mean_squared_error: (test=-1174346371.925) r2: (test=0.858) total time=   0.3s\n",
      "[CV 7/10] END max_depth=5, min_samples_split=5, n_estimators=100; neg_mean_squared_error: (test=-1416547225.133) r2: (test=0.811) total time=   0.3s\n",
      "[CV 8/10] END max_depth=5, min_samples_split=5, n_estimators=100; neg_mean_squared_error: (test=-736392041.832) r2: (test=0.852) total time=   0.3s\n",
      "[CV 9/10] END max_depth=5, min_samples_split=5, n_estimators=100; neg_mean_squared_error: (test=-654496311.765) r2: (test=0.890) total time=   0.3s\n",
      "[CV 10/10] END max_depth=5, min_samples_split=5, n_estimators=100; neg_mean_squared_error: (test=-833606588.941) r2: (test=0.888) total time=   0.3s\n",
      "[CV 1/10] END max_depth=5, min_samples_split=5, n_estimators=1; neg_mean_squared_error: (test=-1520420565.197) r2: (test=0.747) total time=   0.0s\n",
      "[CV 2/10] END max_depth=5, min_samples_split=5, n_estimators=1; neg_mean_squared_error: (test=-1169161120.365) r2: (test=0.773) total time=   0.0s\n",
      "[CV 3/10] END max_depth=5, min_samples_split=5, n_estimators=1; neg_mean_squared_error: (test=-895090120.077) r2: (test=0.807) total time=   0.0s\n",
      "[CV 4/10] END max_depth=5, min_samples_split=5, n_estimators=1; neg_mean_squared_error: (test=-1454001052.245) r2: (test=0.679) total time=   0.0s\n",
      "[CV 5/10] END max_depth=5, min_samples_split=5, n_estimators=1; neg_mean_squared_error: (test=-2281486109.585) r2: (test=0.586) total time=   0.0s\n",
      "[CV 6/10] END max_depth=5, min_samples_split=5, n_estimators=1; neg_mean_squared_error: (test=-2304662613.586) r2: (test=0.721) total time=   0.0s\n",
      "[CV 7/10] END max_depth=5, min_samples_split=5, n_estimators=1; neg_mean_squared_error: (test=-2484780713.386) r2: (test=0.668) total time=   0.0s\n",
      "[CV 8/10] END max_depth=5, min_samples_split=5, n_estimators=1; neg_mean_squared_error: (test=-1275171090.165) r2: (test=0.744) total time=   0.0s\n",
      "[CV 9/10] END max_depth=5, min_samples_split=5, n_estimators=1; neg_mean_squared_error: (test=-1781305391.257) r2: (test=0.699) total time=   0.0s\n",
      "[CV 10/10] END max_depth=5, min_samples_split=5, n_estimators=1; neg_mean_squared_error: (test=-4599192572.579) r2: (test=0.384) total time=   0.0s\n",
      "[CV 1/10] END max_depth=15, min_samples_split=8, n_estimators=100; neg_mean_squared_error: (test=-829146213.795) r2: (test=0.862) total time=   0.8s\n",
      "[CV 2/10] END max_depth=15, min_samples_split=8, n_estimators=100; neg_mean_squared_error: (test=-679793302.638) r2: (test=0.868) total time=   0.7s\n",
      "[CV 3/10] END max_depth=15, min_samples_split=8, n_estimators=100; neg_mean_squared_error: (test=-396865321.899) r2: (test=0.914) total time=   0.7s\n",
      "[CV 4/10] END max_depth=15, min_samples_split=8, n_estimators=100; neg_mean_squared_error: (test=-658244397.286) r2: (test=0.855) total time=   0.6s\n",
      "[CV 5/10] END max_depth=15, min_samples_split=8, n_estimators=100; neg_mean_squared_error: (test=-1023171132.689) r2: (test=0.814) total time=   0.7s\n",
      "[CV 6/10] END max_depth=15, min_samples_split=8, n_estimators=100; neg_mean_squared_error: (test=-1150903891.175) r2: (test=0.861) total time=   0.8s\n",
      "[CV 7/10] END max_depth=15, min_samples_split=8, n_estimators=100; neg_mean_squared_error: (test=-1268331617.435) r2: (test=0.831) total time=   0.9s\n",
      "[CV 8/10] END max_depth=15, min_samples_split=8, n_estimators=100; neg_mean_squared_error: (test=-505292393.229) r2: (test=0.899) total time=   1.0s\n",
      "[CV 9/10] END max_depth=15, min_samples_split=8, n_estimators=100; neg_mean_squared_error: (test=-479096999.473) r2: (test=0.919) total time=   0.9s\n",
      "[CV 10/10] END max_depth=15, min_samples_split=8, n_estimators=100; neg_mean_squared_error: (test=-682157474.133) r2: (test=0.909) total time=   0.7s\n",
      "[CV 1/10] END max_depth=15, min_samples_split=2, n_estimators=10; neg_mean_squared_error: (test=-801264951.260) r2: (test=0.867) total time=   0.0s\n",
      "[CV 2/10] END max_depth=15, min_samples_split=2, n_estimators=10; neg_mean_squared_error: (test=-635437069.086) r2: (test=0.877) total time=   0.0s\n",
      "[CV 3/10] END max_depth=15, min_samples_split=2, n_estimators=10; neg_mean_squared_error: (test=-445922906.945) r2: (test=0.904) total time=   0.0s\n",
      "[CV 4/10] END max_depth=15, min_samples_split=2, n_estimators=10; neg_mean_squared_error: (test=-929346443.326) r2: (test=0.795) total time=   0.0s\n",
      "[CV 5/10] END max_depth=15, min_samples_split=2, n_estimators=10; neg_mean_squared_error: (test=-1031809445.614) r2: (test=0.813) total time=   0.0s\n",
      "[CV 6/10] END max_depth=15, min_samples_split=2, n_estimators=10; neg_mean_squared_error: (test=-1160603858.426) r2: (test=0.859) total time=   0.0s\n",
      "[CV 7/10] END max_depth=15, min_samples_split=2, n_estimators=10; neg_mean_squared_error: (test=-1034843016.638) r2: (test=0.862) total time=   0.0s\n",
      "[CV 8/10] END max_depth=15, min_samples_split=2, n_estimators=10; neg_mean_squared_error: (test=-527413304.503) r2: (test=0.894) total time=   0.0s\n",
      "[CV 9/10] END max_depth=15, min_samples_split=2, n_estimators=10; neg_mean_squared_error: (test=-583270253.457) r2: (test=0.902) total time=   0.0s\n",
      "[CV 10/10] END max_depth=15, min_samples_split=2, n_estimators=10; neg_mean_squared_error: (test=-707897125.659) r2: (test=0.905) total time=   0.0s\n",
      "[CV 1/10] END max_depth=5, min_samples_split=2, n_estimators=200; neg_mean_squared_error: (test=-968232133.929) r2: (test=0.839) total time=   0.8s\n",
      "[CV 2/10] END max_depth=5, min_samples_split=2, n_estimators=200; neg_mean_squared_error: (test=-753805520.547) r2: (test=0.854) total time=   0.8s\n",
      "[CV 3/10] END max_depth=5, min_samples_split=2, n_estimators=200; neg_mean_squared_error: (test=-494056325.478) r2: (test=0.893) total time=   0.8s\n",
      "[CV 4/10] END max_depth=5, min_samples_split=2, n_estimators=200; neg_mean_squared_error: (test=-856872337.872) r2: (test=0.811) total time=   0.8s\n",
      "[CV 5/10] END max_depth=5, min_samples_split=2, n_estimators=200; neg_mean_squared_error: (test=-1112563858.827) r2: (test=0.798) total time=   0.9s\n",
      "[CV 6/10] END max_depth=5, min_samples_split=2, n_estimators=200; neg_mean_squared_error: (test=-1151295291.075) r2: (test=0.860) total time=   0.9s\n",
      "[CV 7/10] END max_depth=5, min_samples_split=2, n_estimators=200; neg_mean_squared_error: (test=-1290878901.272) r2: (test=0.828) total time=   0.9s\n",
      "[CV 8/10] END max_depth=5, min_samples_split=2, n_estimators=200; neg_mean_squared_error: (test=-674633759.642) r2: (test=0.865) total time=   0.9s\n",
      "[CV 9/10] END max_depth=5, min_samples_split=2, n_estimators=200; neg_mean_squared_error: (test=-626537825.126) r2: (test=0.894) total time=   1.0s\n",
      "[CV 10/10] END max_depth=5, min_samples_split=2, n_estimators=200; neg_mean_squared_error: (test=-866154886.189) r2: (test=0.884) total time=   0.9s\n",
      "[CV 1/10] END max_depth=5, min_samples_split=2, n_estimators=1; neg_mean_squared_error: (test=-1730010723.854) r2: (test=0.712) total time=   0.0s\n",
      "[CV 2/10] END max_depth=5, min_samples_split=2, n_estimators=1; neg_mean_squared_error: (test=-1486943251.425) r2: (test=0.711) total time=   0.0s\n",
      "[CV 3/10] END max_depth=5, min_samples_split=2, n_estimators=1; neg_mean_squared_error: (test=-997515229.875) r2: (test=0.785) total time=   0.0s\n",
      "[CV 4/10] END max_depth=5, min_samples_split=2, n_estimators=1; neg_mean_squared_error: (test=-1518568431.839) r2: (test=0.665) total time=   0.0s\n",
      "[CV 5/10] END max_depth=5, min_samples_split=2, n_estimators=1; neg_mean_squared_error: (test=-2491783201.769) r2: (test=0.548) total time=   0.0s\n",
      "[CV 6/10] END max_depth=5, min_samples_split=2, n_estimators=1; neg_mean_squared_error: (test=-1373601599.786) r2: (test=0.834) total time=   0.0s\n",
      "[CV 7/10] END max_depth=5, min_samples_split=2, n_estimators=1; neg_mean_squared_error: (test=-3015803970.481) r2: (test=0.597) total time=   0.0s\n",
      "[CV 8/10] END max_depth=5, min_samples_split=2, n_estimators=1; neg_mean_squared_error: (test=-1165046827.080) r2: (test=0.766) total time=   0.0s\n",
      "[CV 9/10] END max_depth=5, min_samples_split=2, n_estimators=1; neg_mean_squared_error: (test=-1208370544.214) r2: (test=0.796) total time=   0.0s\n",
      "[CV 10/10] END max_depth=5, min_samples_split=2, n_estimators=1; neg_mean_squared_error: (test=-2902384871.973) r2: (test=0.611) total time=   0.0s\n",
      "[CV 1/10] END max_depth=5, min_samples_split=8, n_estimators=100; neg_mean_squared_error: (test=-1002580680.804) r2: (test=0.833) total time=   0.4s\n",
      "[CV 2/10] END max_depth=5, min_samples_split=8, n_estimators=100; neg_mean_squared_error: (test=-724835720.472) r2: (test=0.859) total time=   0.4s\n",
      "[CV 3/10] END max_depth=5, min_samples_split=8, n_estimators=100; neg_mean_squared_error: (test=-489449981.431) r2: (test=0.894) total time=   0.4s\n",
      "[CV 4/10] END max_depth=5, min_samples_split=8, n_estimators=100; neg_mean_squared_error: (test=-856819991.627) r2: (test=0.811) total time=   0.4s\n",
      "[CV 5/10] END max_depth=5, min_samples_split=8, n_estimators=100; neg_mean_squared_error: (test=-1093099162.249) r2: (test=0.802) total time=   0.4s\n",
      "[CV 6/10] END max_depth=5, min_samples_split=8, n_estimators=100; neg_mean_squared_error: (test=-1425118458.720) r2: (test=0.827) total time=   0.4s\n",
      "[CV 7/10] END max_depth=5, min_samples_split=8, n_estimators=100; neg_mean_squared_error: (test=-1441858312.046) r2: (test=0.807) total time=   0.5s\n",
      "[CV 8/10] END max_depth=5, min_samples_split=8, n_estimators=100; neg_mean_squared_error: (test=-741938505.775) r2: (test=0.851) total time=   0.4s\n",
      "[CV 9/10] END max_depth=5, min_samples_split=8, n_estimators=100; neg_mean_squared_error: (test=-636868792.018) r2: (test=0.893) total time=   0.4s\n",
      "[CV 10/10] END max_depth=5, min_samples_split=8, n_estimators=100; neg_mean_squared_error: (test=-868176821.377) r2: (test=0.884) total time=   0.4s\n",
      "[CV 1/10] END max_depth=5, min_samples_split=8, n_estimators=200; neg_mean_squared_error: (test=-943063279.455) r2: (test=0.843) total time=   0.8s\n",
      "[CV 2/10] END max_depth=5, min_samples_split=8, n_estimators=200; neg_mean_squared_error: (test=-736497330.924) r2: (test=0.857) total time=   0.7s\n",
      "[CV 3/10] END max_depth=5, min_samples_split=8, n_estimators=200; neg_mean_squared_error: (test=-524683314.825) r2: (test=0.887) total time=   0.7s\n",
      "[CV 4/10] END max_depth=5, min_samples_split=8, n_estimators=200; neg_mean_squared_error: (test=-832005109.047) r2: (test=0.817) total time=   0.8s\n",
      "[CV 5/10] END max_depth=5, min_samples_split=8, n_estimators=200; neg_mean_squared_error: (test=-1132612678.783) r2: (test=0.795) total time=   1.0s\n",
      "[CV 6/10] END max_depth=5, min_samples_split=8, n_estimators=200; neg_mean_squared_error: (test=-1347529012.917) r2: (test=0.837) total time=   0.8s\n",
      "[CV 7/10] END max_depth=5, min_samples_split=8, n_estimators=200; neg_mean_squared_error: (test=-1414522002.348) r2: (test=0.811) total time=   0.9s\n",
      "[CV 8/10] END max_depth=5, min_samples_split=8, n_estimators=200; neg_mean_squared_error: (test=-754878874.756) r2: (test=0.848) total time=   0.9s\n",
      "[CV 9/10] END max_depth=5, min_samples_split=8, n_estimators=200; neg_mean_squared_error: (test=-638106738.008) r2: (test=0.892) total time=   1.0s\n",
      "[CV 10/10] END max_depth=5, min_samples_split=8, n_estimators=200; neg_mean_squared_error: (test=-867168353.567) r2: (test=0.884) total time=   0.9s\n",
      "[CV 1/10] END max_depth=15, min_samples_split=5, n_estimators=10; neg_mean_squared_error: (test=-887647703.758) r2: (test=0.852) total time=   0.0s\n",
      "[CV 2/10] END max_depth=15, min_samples_split=5, n_estimators=10; neg_mean_squared_error: (test=-830588752.156) r2: (test=0.839) total time=   0.0s\n",
      "[CV 3/10] END max_depth=15, min_samples_split=5, n_estimators=10; neg_mean_squared_error: (test=-481863800.415) r2: (test=0.896) total time=   0.0s\n",
      "[CV 4/10] END max_depth=15, min_samples_split=5, n_estimators=10; neg_mean_squared_error: (test=-801629571.375) r2: (test=0.823) total time=   0.0s\n",
      "[CV 5/10] END max_depth=15, min_samples_split=5, n_estimators=10; neg_mean_squared_error: (test=-1226835328.715) r2: (test=0.778) total time=   0.0s\n",
      "[CV 6/10] END max_depth=15, min_samples_split=5, n_estimators=10; neg_mean_squared_error: (test=-981420773.991) r2: (test=0.881) total time=   0.0s\n",
      "[CV 7/10] END max_depth=15, min_samples_split=5, n_estimators=10; neg_mean_squared_error: (test=-971949903.679) r2: (test=0.870) total time=   0.0s\n",
      "[CV 8/10] END max_depth=15, min_samples_split=5, n_estimators=10; neg_mean_squared_error: (test=-594996009.403) r2: (test=0.881) total time=   0.0s\n",
      "[CV 9/10] END max_depth=15, min_samples_split=5, n_estimators=10; neg_mean_squared_error: (test=-629054470.068) r2: (test=0.894) total time=   0.0s\n",
      "[CV 10/10] END max_depth=15, min_samples_split=5, n_estimators=10; neg_mean_squared_error: (test=-992356443.507) r2: (test=0.867) total time=   0.0s\n",
      "R2::-745342200.3861017\n",
      "hiperparametro melhor::{'n_estimators': 100, 'min_samples_split': 5, 'max_depth': 10}\n"
     ]
    }
   ],
   "source": [
    "from sklearn.model_selection import GridSearchCV\n",
    "from sklearn.model_selection import RandomizedSearchCV\n",
    "\n",
    "\n",
    "model = RandomForestRegressor()\n",
    "param_grid = {'n_estimators':[1,10,100,200],\n",
    "                'max_depth': [5,10,15],\n",
    "                'min_samples_split':[2,3,5,8]}\n",
    "\n",
    "score = scoring=['neg_mean_squared_error','r2']\n",
    "\n",
    "grid_cv_ridge = RandomizedSearchCV(model,param_grid,scoring=score,cv=10,verbose=3,refit='neg_mean_squared_error')\n",
    "\n",
    "grid_cv_ridge.fit(x_train,y_train)\n",
    "print(\"R2::{}\".format(grid_cv_ridge.best_score_))\n",
    "print(\"hiperparametro melhor::{}\".format(grid_cv_ridge.best_params_))\n",
    "\n",
    "pd.DataFrame(data = grid_cv_ridge.cv_results_).head(3)\n",
    "\n",
    "best_model = grid_cv_ridge.best_estimator_"
   ]
  },
  {
   "cell_type": "code",
   "execution_count": null,
   "metadata": {},
   "outputs": [
    {
     "name": "stdout",
     "output_type": "stream",
     "text": [
      "{'bootstrap': True, 'ccp_alpha': 0.0, 'criterion': 'squared_error', 'max_depth': 15, 'max_features': 'auto', 'max_leaf_nodes': None, 'max_samples': None, 'min_impurity_decrease': 0.0, 'min_samples_leaf': 1, 'min_samples_split': 2, 'min_weight_fraction_leaf': 0.0, 'n_estimators': 200, 'n_jobs': None, 'oob_score': False, 'random_state': None, 'verbose': 0, 'warm_start': False}\n"
     ]
    }
   ],
   "source": [
    "print(best_model.get_params())\n",
    "#best_model = grid_cv_ridge.best_estimator_"
   ]
  },
  {
   "cell_type": "code",
   "execution_count": null,
   "metadata": {},
   "outputs": [
    {
     "name": "stdout",
     "output_type": "stream",
     "text": [
      "0.8804537987223945\n"
     ]
    }
   ],
   "source": [
    "print(grid_cv_ridge.best_score_)\n"
   ]
  },
  {
   "cell_type": "code",
   "execution_count": null,
   "metadata": {},
   "outputs": [],
   "source": [
    "pd.DataFrame(data = grid_cv_ridge.cv_results_).head(3)\n"
   ]
  },
  {
   "cell_type": "code",
   "execution_count": 204,
   "metadata": {},
   "outputs": [
    {
     "name": "stdout",
     "output_type": "stream",
     "text": [
      "Feature: 0, Score: 0.00463\n",
      "Feature: 1, Score: 0.00252\n",
      "Feature: 2, Score: 0.00228\n",
      "Feature: 3, Score: 0.01373\n",
      "Feature: 4, Score: 0.00000\n",
      "Feature: 5, Score: 0.00063\n",
      "Feature: 6, Score: 0.00104\n",
      "Feature: 7, Score: 0.00100\n",
      "Feature: 8, Score: 0.00000\n",
      "Feature: 9, Score: 0.00069\n",
      "Feature: 10, Score: 0.00096\n",
      "Feature: 11, Score: 0.00456\n",
      "Feature: 12, Score: 0.00027\n",
      "Feature: 13, Score: 0.00000\n",
      "Feature: 14, Score: 0.00047\n",
      "Feature: 15, Score: 0.00169\n",
      "Feature: 16, Score: 0.51000\n",
      "Feature: 17, Score: 0.00446\n",
      "Feature: 18, Score: 0.01278\n",
      "Feature: 19, Score: 0.00686\n",
      "Feature: 20, Score: 0.00056\n",
      "Feature: 21, Score: 0.00003\n",
      "Feature: 22, Score: 0.00123\n",
      "Feature: 23, Score: 0.00119\n",
      "Feature: 24, Score: 0.00075\n",
      "Feature: 25, Score: 0.00378\n",
      "Feature: 26, Score: 0.00040\n",
      "Feature: 27, Score: 0.00045\n",
      "Feature: 28, Score: 0.01174\n",
      "Feature: 29, Score: 0.00023\n",
      "Feature: 30, Score: 0.00247\n",
      "Feature: 31, Score: 0.00231\n",
      "Feature: 32, Score: 0.03084\n",
      "Feature: 33, Score: 0.00058\n",
      "Feature: 34, Score: 0.00035\n",
      "Feature: 35, Score: 0.00442\n",
      "Feature: 36, Score: 0.03999\n",
      "Feature: 37, Score: 0.00001\n",
      "Feature: 38, Score: 0.00078\n",
      "Feature: 39, Score: 0.00294\n",
      "Feature: 40, Score: 0.00011\n",
      "Feature: 41, Score: 0.03586\n",
      "Feature: 42, Score: 0.02079\n",
      "Feature: 43, Score: 0.00014\n",
      "Feature: 44, Score: 0.17162\n",
      "Feature: 45, Score: 0.00100\n",
      "Feature: 46, Score: 0.00014\n",
      "Feature: 47, Score: 0.01684\n",
      "Feature: 48, Score: 0.00181\n",
      "Feature: 49, Score: 0.00104\n",
      "Feature: 50, Score: 0.00050\n",
      "Feature: 51, Score: 0.00408\n",
      "Feature: 52, Score: 0.00509\n",
      "Feature: 53, Score: 0.00049\n",
      "Feature: 54, Score: 0.00106\n",
      "Feature: 55, Score: 0.00242\n",
      "Feature: 56, Score: 0.00344\n",
      "Feature: 57, Score: 0.00542\n",
      "Feature: 58, Score: 0.01083\n",
      "Feature: 59, Score: 0.02448\n",
      "Feature: 60, Score: 0.00018\n",
      "Feature: 61, Score: 0.00007\n",
      "Feature: 62, Score: 0.00047\n",
      "Feature: 63, Score: 0.00476\n",
      "Feature: 64, Score: 0.00451\n",
      "Feature: 65, Score: 0.00064\n",
      "Feature: 66, Score: 0.00004\n",
      "Feature: 67, Score: 0.00054\n",
      "Feature: 68, Score: 0.00001\n",
      "Feature: 69, Score: 0.00000\n",
      "Feature: 70, Score: 0.00030\n",
      "Feature: 71, Score: 0.00001\n",
      "Feature: 72, Score: 0.00000\n",
      "Feature: 73, Score: 0.00256\n",
      "Feature: 74, Score: 0.00131\n",
      "Feature: 75, Score: 0.00054\n",
      "Feature: 76, Score: 0.00330\n"
     ]
    },
    {
     "data": {
      "image/png": "[encoded data removed]",
      "text/plain": [
       "<Figure size 432x288 with 1 Axes>"
      ]
     },
     "metadata": {
      "needs_background": "light"
     },
     "output_type": "display_data"
    }
   ],
   "source": [
    "from matplotlib import pyplot\n",
    "trash = []\n",
    "importance = model.feature_importances_\n",
    "# summarize feature importance\n",
    "for i,v in enumerate(importance):\n",
    " print('Feature: %0d, Score: %.5f' % (i,v))\n",
    " if v < 0.1:\n",
    "    trash.append(i)\n",
    "# plot feature importance\n",
    "pyplot.bar([x for x in range(len(importance))], importance)\n",
    "pyplot.show()"
   ]
  },
  {
   "cell_type": "code",
   "execution_count": 205,
   "metadata": {},
   "outputs": [],
   "source": [
    "x = x.drop(x.columns[trash],axis = 1)"
   ]
  },
  {
   "cell_type": "code",
   "execution_count": null,
   "metadata": {},
   "outputs": [],
   "source": [
    "model = best_model\n",
    "\n",
    "pred = model.predict(x_test)"
   ]
  },
  {
   "cell_type": "code",
   "execution_count": null,
   "metadata": {},
   "outputs": [],
   "source": []
  },
  {
   "cell_type": "code",
   "execution_count": 207,
   "metadata": {},
   "outputs": [],
   "source": [
    "pred = model.predict(x_test)"
   ]
  },
  {
   "cell_type": "code",
   "execution_count": 208,
   "metadata": {},
   "outputs": [
    {
     "name": "stdout",
     "output_type": "stream",
     "text": [
      "R2:0.800\n",
      "MSE:37021.899\n",
      "MAE:19881.928\n"
     ]
    }
   ],
   "source": [
    "from sklearn import metrics\n",
    "#mse = np.mean((pred - y_test)**2)\n",
    "#print(mse)\n",
    "#print(model.score(x_test,y_test))\n",
    "\n",
    "r2_score = model.score(x_test,y_test)\n",
    "print(\"R2:{:.3f}\".format(r2_score))\n",
    "print(\"MSE:{:.3f}\".format(np.sqrt(metrics.mean_squared_error(y_test,pred))))\n",
    "print(\"MAE:{:.3f}\".format((metrics.mean_absolute_error(y_test,pred))))"
   ]
  },
  {
   "cell_type": "code",
   "execution_count": 10,
   "metadata": {},
   "outputs": [
    {
     "data": {
      "text/html": [
       "<div>\n",
       "<style scoped>\n",
       "    .dataframe tbody tr th:only-of-type {\n",
       "        vertical-align: middle;\n",
       "    }\n",
       "\n",
       "    .dataframe tbody tr th {\n",
       "        vertical-align: top;\n",
       "    }\n",
       "\n",
       "    .dataframe thead th {\n",
       "        text-align: right;\n",
       "    }\n",
       "</style>\n",
       "<table border=\"1\" class=\"dataframe\">\n",
       "  <thead>\n",
       "    <tr style=\"text-align: right;\">\n",
       "      <th></th>\n",
       "      <th>Id</th>\n",
       "      <th>MSSubClass</th>\n",
       "      <th>MSZoning</th>\n",
       "      <th>LotFrontage</th>\n",
       "      <th>LotArea</th>\n",
       "      <th>Street</th>\n",
       "      <th>Alley</th>\n",
       "      <th>LotShape</th>\n",
       "      <th>LandContour</th>\n",
       "      <th>Utilities</th>\n",
       "      <th>...</th>\n",
       "      <th>ScreenPorch</th>\n",
       "      <th>PoolArea</th>\n",
       "      <th>PoolQC</th>\n",
       "      <th>Fence</th>\n",
       "      <th>MiscFeature</th>\n",
       "      <th>MiscVal</th>\n",
       "      <th>MoSold</th>\n",
       "      <th>YrSold</th>\n",
       "      <th>SaleType</th>\n",
       "      <th>SaleCondition</th>\n",
       "    </tr>\n",
       "  </thead>\n",
       "  <tbody>\n",
       "    <tr>\n",
       "      <th>0</th>\n",
       "      <td>1461</td>\n",
       "      <td>20</td>\n",
       "      <td>RH</td>\n",
       "      <td>80.0</td>\n",
       "      <td>11622</td>\n",
       "      <td>Pave</td>\n",
       "      <td>NaN</td>\n",
       "      <td>Reg</td>\n",
       "      <td>Lvl</td>\n",
       "      <td>AllPub</td>\n",
       "      <td>...</td>\n",
       "      <td>120</td>\n",
       "      <td>0</td>\n",
       "      <td>NaN</td>\n",
       "      <td>MnPrv</td>\n",
       "      <td>NaN</td>\n",
       "      <td>0</td>\n",
       "      <td>6</td>\n",
       "      <td>2010</td>\n",
       "      <td>WD</td>\n",
       "      <td>Normal</td>\n",
       "    </tr>\n",
       "    <tr>\n",
       "      <th>1</th>\n",
       "      <td>1462</td>\n",
       "      <td>20</td>\n",
       "      <td>RL</td>\n",
       "      <td>81.0</td>\n",
       "      <td>14267</td>\n",
       "      <td>Pave</td>\n",
       "      <td>NaN</td>\n",
       "      <td>IR1</td>\n",
       "      <td>Lvl</td>\n",
       "      <td>AllPub</td>\n",
       "      <td>...</td>\n",
       "      <td>0</td>\n",
       "      <td>0</td>\n",
       "      <td>NaN</td>\n",
       "      <td>NaN</td>\n",
       "      <td>Gar2</td>\n",
       "      <td>12500</td>\n",
       "      <td>6</td>\n",
       "      <td>2010</td>\n",
       "      <td>WD</td>\n",
       "      <td>Normal</td>\n",
       "    </tr>\n",
       "    <tr>\n",
       "      <th>2</th>\n",
       "      <td>1463</td>\n",
       "      <td>60</td>\n",
       "      <td>RL</td>\n",
       "      <td>74.0</td>\n",
       "      <td>13830</td>\n",
       "      <td>Pave</td>\n",
       "      <td>NaN</td>\n",
       "      <td>IR1</td>\n",
       "      <td>Lvl</td>\n",
       "      <td>AllPub</td>\n",
       "      <td>...</td>\n",
       "      <td>0</td>\n",
       "      <td>0</td>\n",
       "      <td>NaN</td>\n",
       "      <td>MnPrv</td>\n",
       "      <td>NaN</td>\n",
       "      <td>0</td>\n",
       "      <td>3</td>\n",
       "      <td>2010</td>\n",
       "      <td>WD</td>\n",
       "      <td>Normal</td>\n",
       "    </tr>\n",
       "    <tr>\n",
       "      <th>3</th>\n",
       "      <td>1464</td>\n",
       "      <td>60</td>\n",
       "      <td>RL</td>\n",
       "      <td>78.0</td>\n",
       "      <td>9978</td>\n",
       "      <td>Pave</td>\n",
       "      <td>NaN</td>\n",
       "      <td>IR1</td>\n",
       "      <td>Lvl</td>\n",
       "      <td>AllPub</td>\n",
       "      <td>...</td>\n",
       "      <td>0</td>\n",
       "      <td>0</td>\n",
       "      <td>NaN</td>\n",
       "      <td>NaN</td>\n",
       "      <td>NaN</td>\n",
       "      <td>0</td>\n",
       "      <td>6</td>\n",
       "      <td>2010</td>\n",
       "      <td>WD</td>\n",
       "      <td>Normal</td>\n",
       "    </tr>\n",
       "    <tr>\n",
       "      <th>4</th>\n",
       "      <td>1465</td>\n",
       "      <td>120</td>\n",
       "      <td>RL</td>\n",
       "      <td>43.0</td>\n",
       "      <td>5005</td>\n",
       "      <td>Pave</td>\n",
       "      <td>NaN</td>\n",
       "      <td>IR1</td>\n",
       "      <td>HLS</td>\n",
       "      <td>AllPub</td>\n",
       "      <td>...</td>\n",
       "      <td>144</td>\n",
       "      <td>0</td>\n",
       "      <td>NaN</td>\n",
       "      <td>NaN</td>\n",
       "      <td>NaN</td>\n",
       "      <td>0</td>\n",
       "      <td>1</td>\n",
       "      <td>2010</td>\n",
       "      <td>WD</td>\n",
       "      <td>Normal</td>\n",
       "    </tr>\n",
       "  </tbody>\n",
       "</table>\n",
       "<p>5 rows × 80 columns</p>\n",
       "</div>"
      ],
      "text/plain": [
       "     Id  MSSubClass MSZoning  LotFrontage  LotArea Street Alley LotShape  \\\n",
       "0  1461          20       RH         80.0    11622   Pave   NaN      Reg   \n",
       "1  1462          20       RL         81.0    14267   Pave   NaN      IR1   \n",
       "2  1463          60       RL         74.0    13830   Pave   NaN      IR1   \n",
       "3  1464          60       RL         78.0     9978   Pave   NaN      IR1   \n",
       "4  1465         120       RL         43.0     5005   Pave   NaN      IR1   \n",
       "\n",
       "  LandContour Utilities  ... ScreenPorch PoolArea PoolQC  Fence MiscFeature  \\\n",
       "0         Lvl    AllPub  ...         120        0    NaN  MnPrv         NaN   \n",
       "1         Lvl    AllPub  ...           0        0    NaN    NaN        Gar2   \n",
       "2         Lvl    AllPub  ...           0        0    NaN  MnPrv         NaN   \n",
       "3         Lvl    AllPub  ...           0        0    NaN    NaN         NaN   \n",
       "4         HLS    AllPub  ...         144        0    NaN    NaN         NaN   \n",
       "\n",
       "  MiscVal MoSold  YrSold  SaleType  SaleCondition  \n",
       "0       0      6    2010        WD         Normal  \n",
       "1   12500      6    2010        WD         Normal  \n",
       "2       0      3    2010        WD         Normal  \n",
       "3       0      6    2010        WD         Normal  \n",
       "4       0      1    2010        WD         Normal  \n",
       "\n",
       "[5 rows x 80 columns]"
      ]
     },
     "execution_count": 10,
     "metadata": {},
     "output_type": "execute_result"
    }
   ],
   "source": [
    "dataTest = pd.read_csv('data/test.csv')\n",
    "\n",
    "dataTest.head()"
   ]
  }
 ],
 "metadata": {
  "kernelspec": {
   "display_name": "Python 3",
   "language": "python",
   "name": "python3"
  },
  "language_info": {
   "codemirror_mode": {
    "name": "ipython",
    "version": 3
   },
   "file_extension": ".py",
   "mimetype": "text/x-python",
   "name": "python",
   "nbconvert_exporter": "python",
   "pygments_lexer": "ipython3",
   "version": "3.10.2"
  },
  "orig_nbformat": 4,
  "vscode": {
   "interpreter": {
    "hash": "b48ab8baa29243ab304f035f63a357f66f79502c7f334a63d96cbb35ab2463e8"
   }
  }
 },
 "nbformat": 4,
 "nbformat_minor": 2
}
