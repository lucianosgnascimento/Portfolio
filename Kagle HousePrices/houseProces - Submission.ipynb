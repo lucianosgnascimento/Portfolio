{
 "cells": [
  {
   "cell_type": "code",
   "execution_count": 17,
   "metadata": {},
   "outputs": [],
   "source": [
    "import pandas as pd\n",
    "from sklearn import datasets\n",
    "import numpy as np"
   ]
  },
  {
   "cell_type": "code",
   "execution_count": 18,
   "metadata": {},
   "outputs": [],
   "source": [
    "data = pd.read_csv('data/train.csv')\n"
   ]
  },
  {
   "cell_type": "code",
   "execution_count": 19,
   "metadata": {},
   "outputs": [],
   "source": [
    "x = data.drop(['SalePrice'],axis=1)\n",
    "y = data['SalePrice']"
   ]
  },
  {
   "cell_type": "code",
   "execution_count": 20,
   "metadata": {},
   "outputs": [],
   "source": [
    "x = x.drop(['MasVnrArea'],axis=1)\n",
    "x = x.drop(['GarageYrBlt'],axis=1)\n",
    "x = x.drop(['LotFrontage'],axis=1)"
   ]
  },
  {
   "cell_type": "code",
   "execution_count": 21,
   "metadata": {},
   "outputs": [
    {
     "data": {
      "text/plain": [
       "Id               0\n",
       "Fireplaces       0\n",
       "Functional       0\n",
       "TotRmsAbvGrd     0\n",
       "KitchenQual      0\n",
       "                ..\n",
       "Exterior1st      0\n",
       "RoofMatl         0\n",
       "RoofStyle        0\n",
       "Foundation       0\n",
       "SaleCondition    0\n",
       "Length: 77, dtype: int64"
      ]
     },
     "execution_count": 21,
     "metadata": {},
     "output_type": "execute_result"
    }
   ],
   "source": [
    "from sklearn import preprocessing\n",
    "\n",
    "le = preprocessing.LabelEncoder()\n",
    "\n",
    "#x.dtypes\n",
    "converts = []\n",
    "contador = 0\n",
    "for i in x.dtypes:\n",
    "    if 'object' == str(i):\n",
    "        converts.append(contador)\n",
    "    contador = contador + 1\n",
    "\n",
    "converts\n",
    "\n",
    "for i in converts:\n",
    "    x.iloc[:,i] = le.fit_transform(x.iloc[:,i])\n",
    "\n",
    "\n",
    "x.dtypes\n",
    "\n",
    "x.isna().sum().sort_values()\n"
   ]
  },
  {
   "cell_type": "code",
   "execution_count": 22,
   "metadata": {},
   "outputs": [
    {
     "data": {
      "text/plain": [
       "RandomForestRegressor(max_depth=10, min_samples_leaf=2, min_samples_split=5)"
      ]
     },
     "execution_count": 22,
     "metadata": {},
     "output_type": "execute_result"
    }
   ],
   "source": [
    "from sklearn.tree import DecisionTreeRegressor\n",
    "from sklearn.ensemble import RandomForestRegressor\n",
    "\n",
    "from sklearn.ensemble import GradientBoostingRegressor\n",
    "\n",
    "tree = DecisionTreeRegressor(criterion='mse')    \n",
    "\n",
    "model = RandomForestRegressor(n_estimators=100,criterion='squared_error',max_depth=10, min_samples_split= 5,min_samples_leaf=2)\n",
    "#model = GradientBoostingRegressor(loss='squared_error', learning_rate= 0.1 , n_estimators = 100)\n",
    "\n",
    "model.fit(x, y)"
   ]
  },
  {
   "cell_type": "code",
   "execution_count": 23,
   "metadata": {},
   "outputs": [
    {
     "name": "stdout",
     "output_type": "stream",
     "text": [
      "Feature: 0, Score: 0.00344\n",
      "Feature: 1, Score: 0.00106\n",
      "Feature: 2, Score: 0.00225\n",
      "Feature: 3, Score: 0.01186\n",
      "Feature: 4, Score: 0.00000\n",
      "Feature: 5, Score: 0.00036\n",
      "Feature: 6, Score: 0.00154\n",
      "Feature: 7, Score: 0.00088\n",
      "Feature: 8, Score: 0.00000\n",
      "Feature: 9, Score: 0.00065\n",
      "Feature: 10, Score: 0.00050\n",
      "Feature: 11, Score: 0.00699\n",
      "Feature: 12, Score: 0.00044\n",
      "Feature: 13, Score: 0.00000\n",
      "Feature: 14, Score: 0.00015\n",
      "Feature: 15, Score: 0.00064\n",
      "Feature: 16, Score: 0.60064\n",
      "Feature: 17, Score: 0.00394\n",
      "Feature: 18, Score: 0.01059\n",
      "Feature: 19, Score: 0.00682\n",
      "Feature: 20, Score: 0.00062\n",
      "Feature: 21, Score: 0.00005\n",
      "Feature: 22, Score: 0.00160\n",
      "Feature: 23, Score: 0.00077\n",
      "Feature: 24, Score: 0.00096\n",
      "Feature: 25, Score: 0.00381\n",
      "Feature: 26, Score: 0.00031\n",
      "Feature: 27, Score: 0.00034\n",
      "Feature: 28, Score: 0.00342\n",
      "Feature: 29, Score: 0.00016\n",
      "Feature: 30, Score: 0.00214\n",
      "Feature: 31, Score: 0.00143\n",
      "Feature: 32, Score: 0.02987\n",
      "Feature: 33, Score: 0.00009\n",
      "Feature: 34, Score: 0.00030\n",
      "Feature: 35, Score: 0.00472\n",
      "Feature: 36, Score: 0.04137\n",
      "Feature: 37, Score: 0.00000\n",
      "Feature: 38, Score: 0.00058\n",
      "Feature: 39, Score: 0.00282\n",
      "Feature: 40, Score: 0.00013\n",
      "Feature: 41, Score: 0.02182\n",
      "Feature: 42, Score: 0.03604\n",
      "Feature: 43, Score: 0.00025\n",
      "Feature: 44, Score: 0.10898\n",
      "Feature: 45, Score: 0.00058\n",
      "Feature: 46, Score: 0.00013\n",
      "Feature: 47, Score: 0.00463\n",
      "Feature: 48, Score: 0.00066\n",
      "Feature: 49, Score: 0.00232\n",
      "Feature: 50, Score: 0.00077\n",
      "Feature: 51, Score: 0.00276\n",
      "Feature: 52, Score: 0.00469\n",
      "Feature: 53, Score: 0.00044\n",
      "Feature: 54, Score: 0.00242\n",
      "Feature: 55, Score: 0.00170\n",
      "Feature: 56, Score: 0.00595\n",
      "Feature: 57, Score: 0.00480\n",
      "Feature: 58, Score: 0.02059\n",
      "Feature: 59, Score: 0.01395\n",
      "Feature: 60, Score: 0.00008\n",
      "Feature: 61, Score: 0.00007\n",
      "Feature: 62, Score: 0.00027\n",
      "Feature: 63, Score: 0.00498\n",
      "Feature: 64, Score: 0.00416\n",
      "Feature: 65, Score: 0.00043\n",
      "Feature: 66, Score: 0.00013\n",
      "Feature: 67, Score: 0.00069\n",
      "Feature: 68, Score: 0.00000\n",
      "Feature: 69, Score: 0.00002\n",
      "Feature: 70, Score: 0.00022\n",
      "Feature: 71, Score: 0.00001\n",
      "Feature: 72, Score: 0.00001\n",
      "Feature: 73, Score: 0.00369\n",
      "Feature: 74, Score: 0.00140\n",
      "Feature: 75, Score: 0.00064\n",
      "Feature: 76, Score: 0.00146\n"
     ]
    },
    {
     "data": {
      "image/png": "[encoded data removed]",
      "text/plain": [
       "<Figure size 432x288 with 1 Axes>"
      ]
     },
     "metadata": {
      "needs_background": "light"
     },
     "output_type": "display_data"
    }
   ],
   "source": [
    "from matplotlib import pyplot\n",
    "trash = []\n",
    "importance = model.feature_importances_\n",
    "# summarize feature importance\n",
    "for i,v in enumerate(importance):\n",
    " print('Feature: %0d, Score: %.5f' % (i,v))\n",
    " if v < 0.1:\n",
    "    trash.append(i)\n",
    "# plot feature importance\n",
    "pyplot.bar([x for x in range(len(importance))], importance)\n",
    "pyplot.show()"
   ]
  },
  {
   "cell_type": "code",
   "execution_count": 24,
   "metadata": {},
   "outputs": [],
   "source": [
    "x = x.drop(x.columns[trash],axis = 1)"
   ]
  },
  {
   "cell_type": "code",
   "execution_count": 25,
   "metadata": {},
   "outputs": [
    {
     "data": {
      "text/plain": [
       "RandomForestRegressor(max_depth=10, min_samples_leaf=2, min_samples_split=5)"
      ]
     },
     "execution_count": 25,
     "metadata": {},
     "output_type": "execute_result"
    }
   ],
   "source": [
    "from sklearn.ensemble import RandomForestRegressor\n",
    "\n",
    "model = RandomForestRegressor(n_estimators=100,criterion='squared_error',max_depth=10, min_samples_split= 5,min_samples_leaf=2)\n",
    "\n",
    "model.fit(x, y)"
   ]
  },
  {
   "cell_type": "code",
   "execution_count": 26,
   "metadata": {},
   "outputs": [],
   "source": [
    "dataTest = pd.read_csv('data/test.csv')\n",
    "\n",
    "dataTest.head()\n",
    "\n",
    "dataTest = dataTest.drop(['MasVnrArea'],axis=1)\n",
    "dataTest = dataTest.drop(['GarageYrBlt'],axis=1)\n",
    "dataTest = dataTest.drop(['LotFrontage'],axis=1)\n",
    "\n",
    "dataTest = dataTest.drop(dataTest.columns[trash],axis = 1)"
   ]
  },
  {
   "cell_type": "code",
   "execution_count": 27,
   "metadata": {},
   "outputs": [],
   "source": [
    "pred = model.predict(dataTest)"
   ]
  },
  {
   "cell_type": "code",
   "execution_count": 28,
   "metadata": {},
   "outputs": [],
   "source": [
    "dataTest = pd.read_csv('data/test.csv')\n",
    "\n",
    "submission = {}\n",
    "submission['Id'] = dataTest['Id']\n",
    "submission['SalePrice'] = pred\n",
    "\n",
    "\n",
    "submission = pd.DataFrame(submission)"
   ]
  },
  {
   "cell_type": "code",
   "execution_count": 29,
   "metadata": {},
   "outputs": [],
   "source": [
    "submission.head()\n",
    "\n",
    "submission.to_csv(\"submission.csv\",index=False)"
   ]
  }
 ],
 "metadata": {
  "kernelspec": {
   "display_name": "Python 3",
   "language": "python",
   "name": "python3"
  },
  "language_info": {
   "codemirror_mode": {
    "name": "ipython",
    "version": 3
   },
   "file_extension": ".py",
   "mimetype": "text/x-python",
   "name": "python",
   "nbconvert_exporter": "python",
   "pygments_lexer": "ipython3",
   "version": "3.10.2"
  },
  "orig_nbformat": 4,
  "vscode": {
   "interpreter": {
    "hash": "b48ab8baa29243ab304f035f63a357f66f79502c7f334a63d96cbb35ab2463e8"
   }
  }
 },
 "nbformat": 4,
 "nbformat_minor": 2
}
