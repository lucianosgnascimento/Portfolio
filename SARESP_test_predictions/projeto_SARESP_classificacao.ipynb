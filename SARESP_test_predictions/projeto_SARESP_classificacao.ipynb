{
 "cells": [
  {
   "cell_type": "markdown",
   "id": "c8dabad2",
   "metadata": {},
   "source": [
    "## Projeto Analise Socieconomica em resultado de Provas de avaliação de ensino"
   ]
  },
  {
   "cell_type": "markdown",
   "id": "b06f4ffc",
   "metadata": {},
   "source": [
    "Foi feito o entendimento da base de dados que consiste em 62 respostas de questões diversas sobre a vida escolar e socieconomicas de diversos estudantes.\n"
   ]
  },
  {
   "cell_type": "code",
   "execution_count": 3,
   "id": "bf0d697f",
   "metadata": {},
   "outputs": [],
   "source": [
    "import ClassesAnalise as CA"
   ]
  },
  {
   "cell_type": "code",
   "execution_count": 4,
   "id": "83324390",
   "metadata": {},
   "outputs": [],
   "source": [
    "from sklearn.datasets import load_boston\n",
    "import pandas as pd\n",
    "import numpy as np\n",
    "import matplotlib\n",
    "import matplotlib.pyplot as plt\n",
    "import seaborn as sns\n",
    "import statsmodels.api as sm\n",
    "#%matplotlib inline\n",
    "from sklearn.model_selection import train_test_split\n",
    "from sklearn.linear_model import LinearRegression\n",
    "from sklearn.feature_selection import RFE\n",
    "from sklearn.linear_model import RidgeCV, LassoCV, Ridge, Lasso"
   ]
  },
  {
   "cell_type": "code",
   "execution_count": null,
   "id": "8eb3297f",
   "metadata": {},
   "outputs": [],
   "source": []
  },
  {
   "cell_type": "markdown",
   "id": "ae5fb9b9",
   "metadata": {},
   "source": [
    "Iniciando a etapa de Preparação dos Dados será feita:\n",
    "- analise de nulos\n",
    "- analise de correlação de features\n",
    "- analise dos tipos de cada variavel\n",
    "- analise de conteudo de variaveis"
   ]
  },
  {
   "cell_type": "markdown",
   "id": "ae31b450",
   "metadata": {},
   "source": [
    "Tratamento com undersampling e com redução de classes"
   ]
  },
  {
   "cell_type": "code",
   "execution_count": 25,
   "id": "ac4aa11b",
   "metadata": {},
   "outputs": [
    {
     "name": "stderr",
     "output_type": "stream",
     "text": [
      "C:\\Users\\lucia\\AppData\\Local\\Temp\\ipykernel_21900\\782531760.py:1: DtypeWarning: Columns (78) have mixed types. Specify dtype option on import or set low_memory=False.\n",
      "  df = pd.read_csv('SARESP_train.csv')\n"
     ]
    },
    {
     "name": "stdout",
     "output_type": "stream",
     "text": [
      "Básico              54294\n",
      "Abaixo do Básico    44891\n",
      "Adequado            17132\n",
      "Avançado             4279\n",
      "Name: nivel_profic_mat, dtype: int64\n"
     ]
    },
    {
     "name": "stderr",
     "output_type": "stream",
     "text": [
      "C:\\Users\\lucia\\Desktop\\Desenvolvimento\\ImplementacoesReais\\testScores by socialeconimcs\\assignment02\\assignment02\\ClassesAnalise.py:96: SettingWithCopyWarning: \n",
      "A value is trying to be set on a copy of a slice from a DataFrame.\n",
      "Try using .loc[row_indexer,col_indexer] = value instead\n",
      "\n",
      "See the caveats in the documentation: https://pandas.pydata.org/pandas-docs/stable/user_guide/indexing.html#returning-a-view-versus-a-copy\n",
      "  df.iloc[:,i] = le.fit_transform(df.iloc[:,i])\n"
     ]
    },
    {
     "data": {
      "text/plain": [
       "Q9                  0.051916\n",
       "Q10                 0.148554\n",
       "Q22                 0.099731\n",
       "Q23                 0.062468\n",
       "Q26                 0.061349\n",
       "Q27                 0.066955\n",
       "Q42                 0.052422\n",
       "SERIE_ANO           0.104982\n",
       "Tem_Nec             0.098179\n",
       "nivel_profic_mat    1.000000\n",
       "Name: nivel_profic_mat, dtype: float64"
      ]
     },
     "execution_count": 25,
     "metadata": {},
     "output_type": "execute_result"
    }
   ],
   "source": [
    "df = pd.read_csv('SARESP_train.csv')\n",
    "print(df['nivel_profic_mat'].value_counts())\n",
    "\n",
    "#agrupa classes avançado e adequado da coluna profic mat \n",
    "df.loc[df[\"nivel_profic_mat\"] == \"Avançado\", \"nivel_profic_mat\"] = 'Adequado'\n",
    "\n",
    "#remove colunas com mais de 10% de nulos\n",
    "df = df.dropna(axis=1, thresh=int(len(df)/10), how=\"Any\")\n",
    "\n",
    "#normalização de categoricos\n",
    "df = CA.typeEncoder(df,'object')\n",
    "\n",
    "#reduz classes com exemplos desbalanceados\n",
    "df2 = df.drop(df[df['nivel_profic_mat'] == 2].sample(frac=.4).index)\n",
    "df2 = df2.drop(df[df['nivel_profic_mat'] == 0].sample(frac=.5).index)\n",
    "df= df2\n",
    "df = CA.typeEncoder(df,'object')\n",
    "#retirada de variaveis futuras, que são resposta.(Só deixar a que for prever)\n",
    "\n",
    "dataTrain = df.drop(['porc_ACERT_lp'],axis=1)\n",
    "dataTrain = dataTrain.drop(['porc_ACERT_MAT'],axis=1)\n",
    "dataTrain = dataTrain.drop(['porc_ACERT_CIE'],axis=1)\n",
    "dataTrain = dataTrain.drop(['nivel_profic_lp'],axis=1)\n",
    "#dataTrain = dataTrain.drop(['nivel_profic_mat'],axis=1)\n",
    "dataTrain = dataTrain.drop(['nivel_profic_cie'],axis=1)\n",
    "\n",
    "#remocao de variaveis de identificação sistemica\n",
    "\n",
    "dataTrain = dataTrain.drop(['CD_ALUNO'],axis=1)\n",
    "dataTrain = dataTrain.drop(['NOMESC'],axis=1)\n",
    "dataTrain = dataTrain.drop(['MUN'],axis=1)\n",
    "\n",
    "CA.relevantFeatures(dataTrain,'nivel_profic_mat',0.05)\n"
   ]
  },
  {
   "cell_type": "markdown",
   "id": "f52f57b0",
   "metadata": {},
   "source": [
    "Tratamento sem undersampling e com redução de classes"
   ]
  },
  {
   "cell_type": "code",
   "execution_count": 33,
   "id": "270ac54c",
   "metadata": {},
   "outputs": [
    {
     "name": "stderr",
     "output_type": "stream",
     "text": [
      "C:\\Users\\lucia\\AppData\\Local\\Temp\\ipykernel_21900\\3330890525.py:1: DtypeWarning: Columns (78) have mixed types. Specify dtype option on import or set low_memory=False.\n",
      "  df = pd.read_csv('SARESP_train.csv')\n"
     ]
    },
    {
     "name": "stdout",
     "output_type": "stream",
     "text": [
      "Básico              54294\n",
      "Abaixo do Básico    44891\n",
      "Adequado            17132\n",
      "Avançado             4279\n",
      "Name: nivel_profic_mat, dtype: int64\n"
     ]
    },
    {
     "name": "stderr",
     "output_type": "stream",
     "text": [
      "C:\\Users\\lucia\\Desktop\\Desenvolvimento\\ImplementacoesReais\\testScores by socialeconimcs\\assignment02\\assignment02\\ClassesAnalise.py:96: SettingWithCopyWarning: \n",
      "A value is trying to be set on a copy of a slice from a DataFrame.\n",
      "Try using .loc[row_indexer,col_indexer] = value instead\n",
      "\n",
      "See the caveats in the documentation: https://pandas.pydata.org/pandas-docs/stable/user_guide/indexing.html#returning-a-view-versus-a-copy\n",
      "  df.iloc[:,i] = le.fit_transform(df.iloc[:,i])\n"
     ]
    },
    {
     "data": {
      "text/plain": [
       "Q9                  0.062561\n",
       "Q10                 0.158983\n",
       "Q20                 0.061875\n",
       "Q22                 0.123375\n",
       "Q23                 0.078173\n",
       "Q26                 0.080636\n",
       "Q27                 0.080758\n",
       "Q42                 0.061311\n",
       "Q57                 0.054073\n",
       "Q62                 0.050487\n",
       "Q63                 0.051670\n",
       "SERIE_ANO           0.144796\n",
       "Tem_Nec             0.100374\n",
       "nivel_profic_mat    1.000000\n",
       "Name: nivel_profic_mat, dtype: float64"
      ]
     },
     "execution_count": 33,
     "metadata": {},
     "output_type": "execute_result"
    }
   ],
   "source": [
    "df = pd.read_csv('SARESP_train.csv')\n",
    "print(df['nivel_profic_mat'].value_counts())\n",
    "\n",
    "#agrupa classes avançado e adequado da coluna profic mat \n",
    "df.loc[df[\"nivel_profic_mat\"] == \"Avançado\", \"nivel_profic_mat\"] = 'Adequado'\n",
    "\n",
    "#remove colunas com mais de 10% de nulos\n",
    "df = df.dropna(axis=1, thresh=int(len(df)/10), how=\"Any\")\n",
    "\n",
    "#normalização de categoricos\n",
    "df = CA.typeEncoder(df,'object')\n",
    "\n",
    "#retirada de variaveis futuras, que são resposta.(Só deixar a que for prever)\n",
    "\n",
    "dataTrain = df.drop(['porc_ACERT_lp'],axis=1)\n",
    "dataTrain = dataTrain.drop(['porc_ACERT_MAT'],axis=1)\n",
    "dataTrain = dataTrain.drop(['porc_ACERT_CIE'],axis=1)\n",
    "dataTrain = dataTrain.drop(['nivel_profic_lp'],axis=1)\n",
    "#dataTrain = dataTrain.drop(['nivel_profic_mat'],axis=1)\n",
    "dataTrain = dataTrain.drop(['nivel_profic_cie'],axis=1)\n",
    "\n",
    "#remocao de variaveis de identificação sistemica\n",
    "\n",
    "dataTrain = dataTrain.drop(['CD_ALUNO'],axis=1)\n",
    "dataTrain = dataTrain.drop(['NOMESC'],axis=1)\n",
    "dataTrain = dataTrain.drop(['MUN'],axis=1)\n",
    "\n",
    "CA.relevantFeatures(dataTrain,'nivel_profic_mat',0.05)\n"
   ]
  },
  {
   "cell_type": "markdown",
   "id": "e0a22043",
   "metadata": {},
   "source": [
    "Tratamento sem undersampling e sem redução de classes"
   ]
  },
  {
   "cell_type": "code",
   "execution_count": 16,
   "id": "be2f3903",
   "metadata": {},
   "outputs": [
    {
     "name": "stderr",
     "output_type": "stream",
     "text": [
      "C:\\Users\\lucia\\AppData\\Local\\Temp\\ipykernel_21900\\2841780987.py:1: DtypeWarning: Columns (78) have mixed types. Specify dtype option on import or set low_memory=False.\n",
      "  df = pd.read_csv('SARESP_train.csv')\n"
     ]
    },
    {
     "name": "stdout",
     "output_type": "stream",
     "text": [
      "Básico              54294\n",
      "Abaixo do Básico    44891\n",
      "Adequado            17132\n",
      "Avançado             4279\n",
      "Name: nivel_profic_mat, dtype: int64\n"
     ]
    },
    {
     "name": "stderr",
     "output_type": "stream",
     "text": [
      "C:\\Users\\lucia\\Desktop\\Desenvolvimento\\ImplementacoesReais\\testScores by socialeconimcs\\assignment02\\assignment02\\ClassesAnalise.py:96: SettingWithCopyWarning: \n",
      "A value is trying to be set on a copy of a slice from a DataFrame.\n",
      "Try using .loc[row_indexer,col_indexer] = value instead\n",
      "\n",
      "See the caveats in the documentation: https://pandas.pydata.org/pandas-docs/stable/user_guide/indexing.html#returning-a-view-versus-a-copy\n",
      "  df.iloc[:,i] = le.fit_transform(df.iloc[:,i])\n"
     ]
    },
    {
     "data": {
      "text/plain": [
       "Q9                  0.058334\n",
       "Q10                 0.147750\n",
       "Q20                 0.055183\n",
       "Q22                 0.107776\n",
       "Q23                 0.068280\n",
       "Q26                 0.070904\n",
       "Q27                 0.072163\n",
       "Q42                 0.056218\n",
       "SERIE_ANO           0.122105\n",
       "Tem_Nec             0.094544\n",
       "nivel_profic_mat    1.000000\n",
       "Name: nivel_profic_mat, dtype: float64"
      ]
     },
     "execution_count": 16,
     "metadata": {},
     "output_type": "execute_result"
    }
   ],
   "source": [
    "df = pd.read_csv('SARESP_train.csv')\n",
    "print(df['nivel_profic_mat'].value_counts())\n",
    "df = df.dropna(axis=1, thresh=int(len(df)/10), how=\"Any\")\n",
    "df = CA.typeEncoder(df,'object')\n",
    "\n",
    "#retirada de variaveis futuras, que são resposta.(Só deixar a que for prever)\n",
    "\n",
    "dataTrain = df.drop(['porc_ACERT_lp'],axis=1)\n",
    "dataTrain = dataTrain.drop(['porc_ACERT_MAT'],axis=1)\n",
    "dataTrain = dataTrain.drop(['porc_ACERT_CIE'],axis=1)\n",
    "dataTrain = dataTrain.drop(['nivel_profic_lp'],axis=1)\n",
    "#dataTrain = dataTrain.drop(['nivel_profic_mat'],axis=1)\n",
    "dataTrain = dataTrain.drop(['nivel_profic_cie'],axis=1)\n",
    "\n",
    "#remocao de variaveis de identificação sistemica\n",
    "\n",
    "dataTrain = dataTrain.drop(['CD_ALUNO'],axis=1)\n",
    "dataTrain = dataTrain.drop(['NOMESC'],axis=1)\n",
    "dataTrain = dataTrain.drop(['MUN'],axis=1)\n",
    "\n",
    "CA.relevantFeatures(dataTrain,'nivel_profic_mat',0.05)\n"
   ]
  },
  {
   "cell_type": "markdown",
   "id": "12418d22",
   "metadata": {},
   "source": [
    "Após analise das variáveis, foram removidas features que são relacionadas com a variavel resposta e não faziam sentido estar no conjunto de treino. Pelo problema aqui proposto ser prever a nota de matematica na prova en questão, as demais notas de outras disciplinas tambem não estão disponiveis no momento de previsão, portanto serão retiradas. "
   ]
  },
  {
   "cell_type": "code",
   "execution_count": 230,
   "id": "32ef3b14",
   "metadata": {
    "collapsed": true
   },
   "outputs": [
    {
     "data": {
      "image/png": "[encoded data removed]",
      "text/plain": [
       "<Figure size 864x720 with 2 Axes>"
      ]
     },
     "metadata": {
      "needs_background": "light"
     },
     "output_type": "display_data"
    }
   ],
   "source": [
    "from matplotlib import pyplot\n",
    "\n",
    "\n",
    "plt.figure(figsize=(12,10))\n",
    "cor = df.corr()\n",
    "sns.heatmap(cor,  cmap=plt.cm.Reds)\n",
    "plt.show() "
   ]
  },
  {
   "cell_type": "markdown",
   "id": "3fbfbbb3",
   "metadata": {},
   "source": [
    "Aplicou-se o metodo GridSearch para estimar parametros do nosso modelo, consistindo em realizar todas as combinações de parametros fornecidas pelo cientista."
   ]
  },
  {
   "cell_type": "code",
   "execution_count": 191,
   "id": "ceb749dd",
   "metadata": {
    "collapsed": true
   },
   "outputs": [
    {
     "name": "stdout",
     "output_type": "stream",
     "text": [
      "Fitting 3 folds for each of 28 candidates, totalling 84 fits\n"
     ]
    },
    {
     "ename": "KeyboardInterrupt",
     "evalue": "",
     "output_type": "error",
     "traceback": [
      "\u001b[1;31m---------------------------------------------------------------------------\u001b[0m",
      "\u001b[1;31mKeyboardInterrupt\u001b[0m                         Traceback (most recent call last)",
      "Input \u001b[1;32mIn [191]\u001b[0m, in \u001b[0;36m<cell line: 12>\u001b[1;34m()\u001b[0m\n\u001b[0;32m      5\u001b[0m space \u001b[38;5;241m=\u001b[39m \u001b[38;5;28mdict\u001b[39m(solver\u001b[38;5;241m=\u001b[39m[\u001b[38;5;124m'\u001b[39m\u001b[38;5;124mnewton-cg\u001b[39m\u001b[38;5;124m'\u001b[39m], multi_class\u001b[38;5;241m=\u001b[39m[\u001b[38;5;124m'\u001b[39m\u001b[38;5;124mmultinomial\u001b[39m\u001b[38;5;124m'\u001b[39m],\n\u001b[0;32m      6\u001b[0m              penalty\u001b[38;5;241m=\u001b[39m[\u001b[38;5;124m'\u001b[39m\u001b[38;5;124ml2\u001b[39m\u001b[38;5;124m'\u001b[39m, \u001b[38;5;124m'\u001b[39m\u001b[38;5;124mnone\u001b[39m\u001b[38;5;124m'\u001b[39m], C\u001b[38;5;241m=\u001b[39m[\u001b[38;5;241m0.001\u001b[39m, \u001b[38;5;241m0.03\u001b[39m, \u001b[38;5;241m0.1\u001b[39m, \u001b[38;5;241m0.5\u001b[39m, \u001b[38;5;241m0.8\u001b[39m, \u001b[38;5;241m1.0\u001b[39m, \u001b[38;5;241m1.5\u001b[39m], \n\u001b[0;32m      7\u001b[0m              class_weight\u001b[38;5;241m=\u001b[39m[\u001b[38;5;124m'\u001b[39m\u001b[38;5;124mbalanced\u001b[39m\u001b[38;5;124m'\u001b[39m, \u001b[38;5;28;01mNone\u001b[39;00m])\n\u001b[0;32m      9\u001b[0m search_clf \u001b[38;5;241m=\u001b[39m GridSearchCV(model, space, cv\u001b[38;5;241m=\u001b[39m\u001b[38;5;241m3\u001b[39m, verbose\u001b[38;5;241m=\u001b[39m\u001b[38;5;241m2\u001b[39m,\n\u001b[0;32m     10\u001b[0m                           scoring\u001b[38;5;241m=\u001b[39m\u001b[38;5;124m'\u001b[39m\u001b[38;5;124mprecision_micro\u001b[39m\u001b[38;5;124m'\u001b[39m, n_jobs\u001b[38;5;241m=\u001b[39m\u001b[38;5;241m3\u001b[39m)\n\u001b[1;32m---> 12\u001b[0m grid_search \u001b[38;5;241m=\u001b[39m \u001b[43msearch_clf\u001b[49m\u001b[38;5;241;43m.\u001b[39;49m\u001b[43mfit\u001b[49m\u001b[43m(\u001b[49m\u001b[43mx_train\u001b[49m\u001b[43m,\u001b[49m\u001b[43m \u001b[49m\u001b[43my_train\u001b[49m\u001b[43m)\u001b[49m\n\u001b[0;32m     14\u001b[0m \u001b[38;5;66;03m#summarize result\u001b[39;00m\n\u001b[0;32m     15\u001b[0m \u001b[38;5;28mprint\u001b[39m(\u001b[38;5;124m'\u001b[39m\u001b[38;5;124mBest Score: \u001b[39m\u001b[38;5;132;01m%s\u001b[39;00m\u001b[38;5;124m'\u001b[39m \u001b[38;5;241m%\u001b[39m grid_search\u001b[38;5;241m.\u001b[39mbest_score_)\n",
      "File \u001b[1;32m~\\AppData\\Local\\Programs\\Python\\Python310\\lib\\site-packages\\sklearn\\model_selection\\_search.py:891\u001b[0m, in \u001b[0;36mBaseSearchCV.fit\u001b[1;34m(self, X, y, groups, **fit_params)\u001b[0m\n\u001b[0;32m    885\u001b[0m     results \u001b[38;5;241m=\u001b[39m \u001b[38;5;28mself\u001b[39m\u001b[38;5;241m.\u001b[39m_format_results(\n\u001b[0;32m    886\u001b[0m         all_candidate_params, n_splits, all_out, all_more_results\n\u001b[0;32m    887\u001b[0m     )\n\u001b[0;32m    889\u001b[0m     \u001b[38;5;28;01mreturn\u001b[39;00m results\n\u001b[1;32m--> 891\u001b[0m \u001b[38;5;28;43mself\u001b[39;49m\u001b[38;5;241;43m.\u001b[39;49m\u001b[43m_run_search\u001b[49m\u001b[43m(\u001b[49m\u001b[43mevaluate_candidates\u001b[49m\u001b[43m)\u001b[49m\n\u001b[0;32m    893\u001b[0m \u001b[38;5;66;03m# multimetric is determined here because in the case of a callable\u001b[39;00m\n\u001b[0;32m    894\u001b[0m \u001b[38;5;66;03m# self.scoring the return type is only known after calling\u001b[39;00m\n\u001b[0;32m    895\u001b[0m first_test_score \u001b[38;5;241m=\u001b[39m all_out[\u001b[38;5;241m0\u001b[39m][\u001b[38;5;124m\"\u001b[39m\u001b[38;5;124mtest_scores\u001b[39m\u001b[38;5;124m\"\u001b[39m]\n",
      "File \u001b[1;32m~\\AppData\\Local\\Programs\\Python\\Python310\\lib\\site-packages\\sklearn\\model_selection\\_search.py:1392\u001b[0m, in \u001b[0;36mGridSearchCV._run_search\u001b[1;34m(self, evaluate_candidates)\u001b[0m\n\u001b[0;32m   1390\u001b[0m \u001b[38;5;28;01mdef\u001b[39;00m \u001b[38;5;21m_run_search\u001b[39m(\u001b[38;5;28mself\u001b[39m, evaluate_candidates):\n\u001b[0;32m   1391\u001b[0m     \u001b[38;5;124;03m\"\"\"Search all candidates in param_grid\"\"\"\u001b[39;00m\n\u001b[1;32m-> 1392\u001b[0m     \u001b[43mevaluate_candidates\u001b[49m\u001b[43m(\u001b[49m\u001b[43mParameterGrid\u001b[49m\u001b[43m(\u001b[49m\u001b[38;5;28;43mself\u001b[39;49m\u001b[38;5;241;43m.\u001b[39;49m\u001b[43mparam_grid\u001b[49m\u001b[43m)\u001b[49m\u001b[43m)\u001b[49m\n",
      "File \u001b[1;32m~\\AppData\\Local\\Programs\\Python\\Python310\\lib\\site-packages\\sklearn\\model_selection\\_search.py:838\u001b[0m, in \u001b[0;36mBaseSearchCV.fit.<locals>.evaluate_candidates\u001b[1;34m(candidate_params, cv, more_results)\u001b[0m\n\u001b[0;32m    830\u001b[0m \u001b[38;5;28;01mif\u001b[39;00m \u001b[38;5;28mself\u001b[39m\u001b[38;5;241m.\u001b[39mverbose \u001b[38;5;241m>\u001b[39m \u001b[38;5;241m0\u001b[39m:\n\u001b[0;32m    831\u001b[0m     \u001b[38;5;28mprint\u001b[39m(\n\u001b[0;32m    832\u001b[0m         \u001b[38;5;124m\"\u001b[39m\u001b[38;5;124mFitting \u001b[39m\u001b[38;5;132;01m{0}\u001b[39;00m\u001b[38;5;124m folds for each of \u001b[39m\u001b[38;5;132;01m{1}\u001b[39;00m\u001b[38;5;124m candidates,\u001b[39m\u001b[38;5;124m\"\u001b[39m\n\u001b[0;32m    833\u001b[0m         \u001b[38;5;124m\"\u001b[39m\u001b[38;5;124m totalling \u001b[39m\u001b[38;5;132;01m{2}\u001b[39;00m\u001b[38;5;124m fits\u001b[39m\u001b[38;5;124m\"\u001b[39m\u001b[38;5;241m.\u001b[39mformat(\n\u001b[0;32m    834\u001b[0m             n_splits, n_candidates, n_candidates \u001b[38;5;241m*\u001b[39m n_splits\n\u001b[0;32m    835\u001b[0m         )\n\u001b[0;32m    836\u001b[0m     )\n\u001b[1;32m--> 838\u001b[0m out \u001b[38;5;241m=\u001b[39m \u001b[43mparallel\u001b[49m\u001b[43m(\u001b[49m\n\u001b[0;32m    839\u001b[0m \u001b[43m    \u001b[49m\u001b[43mdelayed\u001b[49m\u001b[43m(\u001b[49m\u001b[43m_fit_and_score\u001b[49m\u001b[43m)\u001b[49m\u001b[43m(\u001b[49m\n\u001b[0;32m    840\u001b[0m \u001b[43m        \u001b[49m\u001b[43mclone\u001b[49m\u001b[43m(\u001b[49m\u001b[43mbase_estimator\u001b[49m\u001b[43m)\u001b[49m\u001b[43m,\u001b[49m\n\u001b[0;32m    841\u001b[0m \u001b[43m        \u001b[49m\u001b[43mX\u001b[49m\u001b[43m,\u001b[49m\n\u001b[0;32m    842\u001b[0m \u001b[43m        \u001b[49m\u001b[43my\u001b[49m\u001b[43m,\u001b[49m\n\u001b[0;32m    843\u001b[0m \u001b[43m        \u001b[49m\u001b[43mtrain\u001b[49m\u001b[38;5;241;43m=\u001b[39;49m\u001b[43mtrain\u001b[49m\u001b[43m,\u001b[49m\n\u001b[0;32m    844\u001b[0m \u001b[43m        \u001b[49m\u001b[43mtest\u001b[49m\u001b[38;5;241;43m=\u001b[39;49m\u001b[43mtest\u001b[49m\u001b[43m,\u001b[49m\n\u001b[0;32m    845\u001b[0m \u001b[43m        \u001b[49m\u001b[43mparameters\u001b[49m\u001b[38;5;241;43m=\u001b[39;49m\u001b[43mparameters\u001b[49m\u001b[43m,\u001b[49m\n\u001b[0;32m    846\u001b[0m \u001b[43m        \u001b[49m\u001b[43msplit_progress\u001b[49m\u001b[38;5;241;43m=\u001b[39;49m\u001b[43m(\u001b[49m\u001b[43msplit_idx\u001b[49m\u001b[43m,\u001b[49m\u001b[43m \u001b[49m\u001b[43mn_splits\u001b[49m\u001b[43m)\u001b[49m\u001b[43m,\u001b[49m\n\u001b[0;32m    847\u001b[0m \u001b[43m        \u001b[49m\u001b[43mcandidate_progress\u001b[49m\u001b[38;5;241;43m=\u001b[39;49m\u001b[43m(\u001b[49m\u001b[43mcand_idx\u001b[49m\u001b[43m,\u001b[49m\u001b[43m \u001b[49m\u001b[43mn_candidates\u001b[49m\u001b[43m)\u001b[49m\u001b[43m,\u001b[49m\n\u001b[0;32m    848\u001b[0m \u001b[43m        \u001b[49m\u001b[38;5;241;43m*\u001b[39;49m\u001b[38;5;241;43m*\u001b[39;49m\u001b[43mfit_and_score_kwargs\u001b[49m\u001b[43m,\u001b[49m\n\u001b[0;32m    849\u001b[0m \u001b[43m    \u001b[49m\u001b[43m)\u001b[49m\n\u001b[0;32m    850\u001b[0m \u001b[43m    \u001b[49m\u001b[38;5;28;43;01mfor\u001b[39;49;00m\u001b[43m \u001b[49m\u001b[43m(\u001b[49m\u001b[43mcand_idx\u001b[49m\u001b[43m,\u001b[49m\u001b[43m \u001b[49m\u001b[43mparameters\u001b[49m\u001b[43m)\u001b[49m\u001b[43m,\u001b[49m\u001b[43m \u001b[49m\u001b[43m(\u001b[49m\u001b[43msplit_idx\u001b[49m\u001b[43m,\u001b[49m\u001b[43m \u001b[49m\u001b[43m(\u001b[49m\u001b[43mtrain\u001b[49m\u001b[43m,\u001b[49m\u001b[43m \u001b[49m\u001b[43mtest\u001b[49m\u001b[43m)\u001b[49m\u001b[43m)\u001b[49m\u001b[43m \u001b[49m\u001b[38;5;129;43;01min\u001b[39;49;00m\u001b[43m \u001b[49m\u001b[43mproduct\u001b[49m\u001b[43m(\u001b[49m\n\u001b[0;32m    851\u001b[0m \u001b[43m        \u001b[49m\u001b[38;5;28;43menumerate\u001b[39;49m\u001b[43m(\u001b[49m\u001b[43mcandidate_params\u001b[49m\u001b[43m)\u001b[49m\u001b[43m,\u001b[49m\u001b[43m \u001b[49m\u001b[38;5;28;43menumerate\u001b[39;49m\u001b[43m(\u001b[49m\u001b[43mcv\u001b[49m\u001b[38;5;241;43m.\u001b[39;49m\u001b[43msplit\u001b[49m\u001b[43m(\u001b[49m\u001b[43mX\u001b[49m\u001b[43m,\u001b[49m\u001b[43m \u001b[49m\u001b[43my\u001b[49m\u001b[43m,\u001b[49m\u001b[43m \u001b[49m\u001b[43mgroups\u001b[49m\u001b[43m)\u001b[49m\u001b[43m)\u001b[49m\n\u001b[0;32m    852\u001b[0m \u001b[43m    \u001b[49m\u001b[43m)\u001b[49m\n\u001b[0;32m    853\u001b[0m \u001b[43m\u001b[49m\u001b[43m)\u001b[49m\n\u001b[0;32m    855\u001b[0m \u001b[38;5;28;01mif\u001b[39;00m \u001b[38;5;28mlen\u001b[39m(out) \u001b[38;5;241m<\u001b[39m \u001b[38;5;241m1\u001b[39m:\n\u001b[0;32m    856\u001b[0m     \u001b[38;5;28;01mraise\u001b[39;00m \u001b[38;5;167;01mValueError\u001b[39;00m(\n\u001b[0;32m    857\u001b[0m         \u001b[38;5;124m\"\u001b[39m\u001b[38;5;124mNo fits were performed. \u001b[39m\u001b[38;5;124m\"\u001b[39m\n\u001b[0;32m    858\u001b[0m         \u001b[38;5;124m\"\u001b[39m\u001b[38;5;124mWas the CV iterator empty? \u001b[39m\u001b[38;5;124m\"\u001b[39m\n\u001b[0;32m    859\u001b[0m         \u001b[38;5;124m\"\u001b[39m\u001b[38;5;124mWere there no candidates?\u001b[39m\u001b[38;5;124m\"\u001b[39m\n\u001b[0;32m    860\u001b[0m     )\n",
      "File \u001b[1;32m~\\AppData\\Local\\Programs\\Python\\Python310\\lib\\site-packages\\joblib\\parallel.py:1056\u001b[0m, in \u001b[0;36mParallel.__call__\u001b[1;34m(self, iterable)\u001b[0m\n\u001b[0;32m   1053\u001b[0m     \u001b[38;5;28mself\u001b[39m\u001b[38;5;241m.\u001b[39m_iterating \u001b[38;5;241m=\u001b[39m \u001b[38;5;28;01mFalse\u001b[39;00m\n\u001b[0;32m   1055\u001b[0m \u001b[38;5;28;01mwith\u001b[39;00m \u001b[38;5;28mself\u001b[39m\u001b[38;5;241m.\u001b[39m_backend\u001b[38;5;241m.\u001b[39mretrieval_context():\n\u001b[1;32m-> 1056\u001b[0m     \u001b[38;5;28;43mself\u001b[39;49m\u001b[38;5;241;43m.\u001b[39;49m\u001b[43mretrieve\u001b[49m\u001b[43m(\u001b[49m\u001b[43m)\u001b[49m\n\u001b[0;32m   1057\u001b[0m \u001b[38;5;66;03m# Make sure that we get a last message telling us we are done\u001b[39;00m\n\u001b[0;32m   1058\u001b[0m elapsed_time \u001b[38;5;241m=\u001b[39m time\u001b[38;5;241m.\u001b[39mtime() \u001b[38;5;241m-\u001b[39m \u001b[38;5;28mself\u001b[39m\u001b[38;5;241m.\u001b[39m_start_time\n",
      "File \u001b[1;32m~\\AppData\\Local\\Programs\\Python\\Python310\\lib\\site-packages\\joblib\\parallel.py:935\u001b[0m, in \u001b[0;36mParallel.retrieve\u001b[1;34m(self)\u001b[0m\n\u001b[0;32m    933\u001b[0m \u001b[38;5;28;01mtry\u001b[39;00m:\n\u001b[0;32m    934\u001b[0m     \u001b[38;5;28;01mif\u001b[39;00m \u001b[38;5;28mgetattr\u001b[39m(\u001b[38;5;28mself\u001b[39m\u001b[38;5;241m.\u001b[39m_backend, \u001b[38;5;124m'\u001b[39m\u001b[38;5;124msupports_timeout\u001b[39m\u001b[38;5;124m'\u001b[39m, \u001b[38;5;28;01mFalse\u001b[39;00m):\n\u001b[1;32m--> 935\u001b[0m         \u001b[38;5;28mself\u001b[39m\u001b[38;5;241m.\u001b[39m_output\u001b[38;5;241m.\u001b[39mextend(\u001b[43mjob\u001b[49m\u001b[38;5;241;43m.\u001b[39;49m\u001b[43mget\u001b[49m\u001b[43m(\u001b[49m\u001b[43mtimeout\u001b[49m\u001b[38;5;241;43m=\u001b[39;49m\u001b[38;5;28;43mself\u001b[39;49m\u001b[38;5;241;43m.\u001b[39;49m\u001b[43mtimeout\u001b[49m\u001b[43m)\u001b[49m)\n\u001b[0;32m    936\u001b[0m     \u001b[38;5;28;01melse\u001b[39;00m:\n\u001b[0;32m    937\u001b[0m         \u001b[38;5;28mself\u001b[39m\u001b[38;5;241m.\u001b[39m_output\u001b[38;5;241m.\u001b[39mextend(job\u001b[38;5;241m.\u001b[39mget())\n",
      "File \u001b[1;32m~\\AppData\\Local\\Programs\\Python\\Python310\\lib\\site-packages\\joblib\\_parallel_backends.py:542\u001b[0m, in \u001b[0;36mLokyBackend.wrap_future_result\u001b[1;34m(future, timeout)\u001b[0m\n\u001b[0;32m    539\u001b[0m \u001b[38;5;124;03m\"\"\"Wrapper for Future.result to implement the same behaviour as\u001b[39;00m\n\u001b[0;32m    540\u001b[0m \u001b[38;5;124;03mAsyncResults.get from multiprocessing.\"\"\"\u001b[39;00m\n\u001b[0;32m    541\u001b[0m \u001b[38;5;28;01mtry\u001b[39;00m:\n\u001b[1;32m--> 542\u001b[0m     \u001b[38;5;28;01mreturn\u001b[39;00m \u001b[43mfuture\u001b[49m\u001b[38;5;241;43m.\u001b[39;49m\u001b[43mresult\u001b[49m\u001b[43m(\u001b[49m\u001b[43mtimeout\u001b[49m\u001b[38;5;241;43m=\u001b[39;49m\u001b[43mtimeout\u001b[49m\u001b[43m)\u001b[49m\n\u001b[0;32m    543\u001b[0m \u001b[38;5;28;01mexcept\u001b[39;00m CfTimeoutError \u001b[38;5;28;01mas\u001b[39;00m e:\n\u001b[0;32m    544\u001b[0m     \u001b[38;5;28;01mraise\u001b[39;00m \u001b[38;5;167;01mTimeoutError\u001b[39;00m \u001b[38;5;28;01mfrom\u001b[39;00m \u001b[38;5;21;01me\u001b[39;00m\n",
      "File \u001b[1;32m~\\AppData\\Local\\Programs\\Python\\Python310\\lib\\concurrent\\futures\\_base.py:441\u001b[0m, in \u001b[0;36mFuture.result\u001b[1;34m(self, timeout)\u001b[0m\n\u001b[0;32m    438\u001b[0m \u001b[38;5;28;01melif\u001b[39;00m \u001b[38;5;28mself\u001b[39m\u001b[38;5;241m.\u001b[39m_state \u001b[38;5;241m==\u001b[39m FINISHED:\n\u001b[0;32m    439\u001b[0m     \u001b[38;5;28;01mreturn\u001b[39;00m \u001b[38;5;28mself\u001b[39m\u001b[38;5;241m.\u001b[39m__get_result()\n\u001b[1;32m--> 441\u001b[0m \u001b[38;5;28;43mself\u001b[39;49m\u001b[38;5;241;43m.\u001b[39;49m\u001b[43m_condition\u001b[49m\u001b[38;5;241;43m.\u001b[39;49m\u001b[43mwait\u001b[49m\u001b[43m(\u001b[49m\u001b[43mtimeout\u001b[49m\u001b[43m)\u001b[49m\n\u001b[0;32m    443\u001b[0m \u001b[38;5;28;01mif\u001b[39;00m \u001b[38;5;28mself\u001b[39m\u001b[38;5;241m.\u001b[39m_state \u001b[38;5;129;01min\u001b[39;00m [CANCELLED, CANCELLED_AND_NOTIFIED]:\n\u001b[0;32m    444\u001b[0m     \u001b[38;5;28;01mraise\u001b[39;00m CancelledError()\n",
      "File \u001b[1;32m~\\AppData\\Local\\Programs\\Python\\Python310\\lib\\threading.py:320\u001b[0m, in \u001b[0;36mCondition.wait\u001b[1;34m(self, timeout)\u001b[0m\n\u001b[0;32m    318\u001b[0m \u001b[38;5;28;01mtry\u001b[39;00m:    \u001b[38;5;66;03m# restore state no matter what (e.g., KeyboardInterrupt)\u001b[39;00m\n\u001b[0;32m    319\u001b[0m     \u001b[38;5;28;01mif\u001b[39;00m timeout \u001b[38;5;129;01mis\u001b[39;00m \u001b[38;5;28;01mNone\u001b[39;00m:\n\u001b[1;32m--> 320\u001b[0m         \u001b[43mwaiter\u001b[49m\u001b[38;5;241;43m.\u001b[39;49m\u001b[43macquire\u001b[49m\u001b[43m(\u001b[49m\u001b[43m)\u001b[49m\n\u001b[0;32m    321\u001b[0m         gotit \u001b[38;5;241m=\u001b[39m \u001b[38;5;28;01mTrue\u001b[39;00m\n\u001b[0;32m    322\u001b[0m     \u001b[38;5;28;01melse\u001b[39;00m:\n",
      "\u001b[1;31mKeyboardInterrupt\u001b[0m: "
     ]
    }
   ],
   "source": [
    "'''from sklearn.model_selection import GridSearchCV\n",
    "\n",
    "model = LogisticRegression()\n",
    "\n",
    "space = dict(solver=['newton-cg'], multi_class=['multinomial'],\n",
    "             penalty=['l2', 'none'], C=[0.001, 0.03, 0.1, 0.5, 0.8, 1.0, 1.5], \n",
    "             class_weight=['balanced', None])\n",
    "\n",
    "search_clf = GridSearchCV(model, space, cv=3, verbose=2,\n",
    "                          scoring='precision_micro', n_jobs=3)\n",
    "\n",
    "grid_search = search_clf.fit(x_train, y_train)\n",
    "\n",
    "#summarize result\n",
    "print('Best Score: %s' % grid_search.best_score_)\n",
    "print('Best Hyperparameters: %s' % grid_search.best_params_)'''"
   ]
  },
  {
   "cell_type": "code",
   "execution_count": 34,
   "id": "59cf0a30",
   "metadata": {},
   "outputs": [
    {
     "name": "stdout",
     "output_type": "stream",
     "text": [
      "2    54294\n",
      "0    44891\n",
      "1    21411\n",
      "Name: nivel_profic_mat, dtype: int64\n"
     ]
    }
   ],
   "source": [
    "x = dataTrain.drop(['nivel_profic_mat'],axis=1)\n",
    "y = dataTrain['nivel_profic_mat']\n",
    "\n",
    "print(y.value_counts())\n",
    "\n",
    "from sklearn.model_selection import train_test_split\n",
    "\n",
    "\n",
    "x_train,x_test, y_train, y_test = train_test_split(x,y,test_size=0.3,random_state=13)\n"
   ]
  },
  {
   "cell_type": "markdown",
   "id": "7190326f",
   "metadata": {},
   "source": [
    "resultados com undersampling e com classes reduzidas"
   ]
  },
  {
   "cell_type": "code",
   "execution_count": 27,
   "id": "43e3a165",
   "metadata": {},
   "outputs": [
    {
     "name": "stderr",
     "output_type": "stream",
     "text": [
      "[Parallel(n_jobs=1)]: Using backend SequentialBackend with 1 concurrent workers.\n",
      "C:\\Users\\lucia\\AppData\\Local\\Programs\\Python\\Python310\\lib\\site-packages\\scipy\\optimize\\_linesearch.py:456: LineSearchWarning: The line search algorithm did not converge\n",
      "  warn('The line search algorithm did not converge', LineSearchWarning)\n",
      "C:\\Users\\lucia\\AppData\\Local\\Programs\\Python\\Python310\\lib\\site-packages\\scipy\\optimize\\_linesearch.py:305: LineSearchWarning: The line search algorithm did not converge\n",
      "  warn('The line search algorithm did not converge', LineSearchWarning)\n"
     ]
    },
    {
     "name": "stdout",
     "output_type": "stream",
     "text": [
      "[[3244  501 2971]\n",
      " [ 198 3697 2498]\n",
      " [1765 1722 6334]]\n",
      "Acurácia: 0.58\n",
      "              precision    recall  f1-score   support\n",
      "\n",
      "           0       0.62      0.48      0.54      6716\n",
      "           1       0.62      0.58      0.60      6393\n",
      "           2       0.54      0.64      0.59      9821\n",
      "\n",
      "    accuracy                           0.58     22930\n",
      "   macro avg       0.59      0.57      0.58     22930\n",
      "weighted avg       0.59      0.58      0.58     22930\n",
      "\n"
     ]
    },
    {
     "name": "stderr",
     "output_type": "stream",
     "text": [
      "C:\\Users\\lucia\\AppData\\Local\\Programs\\Python\\Python310\\lib\\site-packages\\sklearn\\utils\\optimize.py:210: ConvergenceWarning: newton-cg failed to converge. Increase the number of iterations.\n",
      "  warnings.warn(\n",
      "[Parallel(n_jobs=1)]: Done   1 out of   1 | elapsed:   44.0s finished\n"
     ]
    }
   ],
   "source": [
    "from sklearn.linear_model import LogisticRegression\n",
    "from sklearn.metrics import classification_report\n",
    "from sklearn.metrics import confusion_matrix\n",
    "\n",
    "clf = LogisticRegression(solver='newton-cg', verbose=1,\n",
    "                         multi_class='multinomial')\n",
    "result_clf = clf.fit(x_train, y_train)\n",
    "\n",
    "y_pred = result_clf.predict(x_test)\n",
    "\n",
    "from sklearn.metrics import confusion_matrix, accuracy_score, precision_score, recall_score, f1_score, roc_auc_score, roc_curve\n",
    "\n",
    "gini_score = lambda y_true,y_score: 2*roc_auc_score(y_true,y_score)-1\n",
    "\n",
    "score = clf.predict_proba(x_train)[:,1]\n",
    "\n",
    "print(confusion_matrix(y_test,y_pred))\n",
    "\n",
    "print('Acurácia: %.2f' % accuracy_score(y_test,y_pred))\n",
    "print(classification_report(y_test, y_pred))"
   ]
  },
  {
   "cell_type": "markdown",
   "id": "94ea24a9",
   "metadata": {},
   "source": [
    "resultados sem undersampling e com classes reduzidas"
   ]
  },
  {
   "cell_type": "code",
   "execution_count": 35,
   "id": "ee020c9d",
   "metadata": {},
   "outputs": [
    {
     "name": "stderr",
     "output_type": "stream",
     "text": [
      "[Parallel(n_jobs=1)]: Using backend SequentialBackend with 1 concurrent workers.\n"
     ]
    },
    {
     "name": "stdout",
     "output_type": "stream",
     "text": [
      "[[ 7614   374  5512]\n",
      " [  277  2179  3994]\n",
      " [ 3916  1167 11146]]\n",
      "Acurácia: 0.58\n",
      "              precision    recall  f1-score   support\n",
      "\n",
      "           0       0.64      0.56      0.60     13500\n",
      "           1       0.59      0.34      0.43      6450\n",
      "           2       0.54      0.69      0.60     16229\n",
      "\n",
      "    accuracy                           0.58     36179\n",
      "   macro avg       0.59      0.53      0.54     36179\n",
      "weighted avg       0.59      0.58      0.57     36179\n",
      "\n"
     ]
    },
    {
     "name": "stderr",
     "output_type": "stream",
     "text": [
      "C:\\Users\\lucia\\AppData\\Local\\Programs\\Python\\Python310\\lib\\site-packages\\sklearn\\utils\\optimize.py:210: ConvergenceWarning: newton-cg failed to converge. Increase the number of iterations.\n",
      "  warnings.warn(\n",
      "[Parallel(n_jobs=1)]: Done   1 out of   1 | elapsed:   59.9s finished\n"
     ]
    }
   ],
   "source": [
    "from sklearn.linear_model import LogisticRegression\n",
    "from sklearn.metrics import classification_report\n",
    "from sklearn.metrics import confusion_matrix\n",
    "\n",
    "clf = LogisticRegression(solver='newton-cg', verbose=1,\n",
    "                         multi_class='multinomial')\n",
    "result_clf = clf.fit(x_train, y_train)\n",
    "\n",
    "y_pred = result_clf.predict(x_test)\n",
    "\n",
    "from sklearn.metrics import confusion_matrix, accuracy_score, precision_score, recall_score, f1_score, roc_auc_score, roc_curve\n",
    "\n",
    "gini_score = lambda y_true,y_score: 2*roc_auc_score(y_true,y_score)-1\n",
    "\n",
    "score = clf.predict_proba(x_train)[:,1]\n",
    "\n",
    "print(confusion_matrix(y_test,y_pred))\n",
    "\n",
    "print('Acurácia: %.2f' % accuracy_score(y_test,y_pred))\n",
    "print(classification_report(y_test, y_pred))"
   ]
  },
  {
   "cell_type": "markdown",
   "id": "6ce44a95",
   "metadata": {},
   "source": [
    "resultados sem undersampling e sem classes reduzidas"
   ]
  },
  {
   "cell_type": "code",
   "execution_count": 18,
   "id": "c930d249",
   "metadata": {},
   "outputs": [
    {
     "name": "stderr",
     "output_type": "stream",
     "text": [
      "[Parallel(n_jobs=1)]: Using backend SequentialBackend with 1 concurrent workers.\n"
     ]
    },
    {
     "name": "stdout",
     "output_type": "stream",
     "text": [
      "[[ 7615   184     1  5700]\n",
      " [  262   885     1  4010]\n",
      " [   17   491     0   784]\n",
      " [ 3929   601     0 11699]]\n",
      "Acurácia: 0.56\n",
      "              precision    recall  f1-score   support\n",
      "\n",
      "           0       0.64      0.56      0.60     13500\n",
      "           1       0.41      0.17      0.24      5158\n",
      "           2       0.00      0.00      0.00      1292\n",
      "           3       0.53      0.72      0.61     16229\n",
      "\n",
      "    accuracy                           0.56     36179\n",
      "   macro avg       0.40      0.36      0.36     36179\n",
      "weighted avg       0.54      0.56      0.53     36179\n",
      "\n"
     ]
    },
    {
     "name": "stderr",
     "output_type": "stream",
     "text": [
      "C:\\Users\\lucia\\AppData\\Local\\Programs\\Python\\Python310\\lib\\site-packages\\sklearn\\utils\\optimize.py:210: ConvergenceWarning: newton-cg failed to converge. Increase the number of iterations.\n",
      "  warnings.warn(\n",
      "[Parallel(n_jobs=1)]: Done   1 out of   1 | elapsed:  1.5min finished\n"
     ]
    }
   ],
   "source": [
    "from sklearn.linear_model import LogisticRegression\n",
    "from sklearn.metrics import classification_report\n",
    "from sklearn.metrics import confusion_matrix\n",
    "\n",
    "clf = LogisticRegression(solver='newton-cg', verbose=1,\n",
    "                         multi_class='multinomial')\n",
    "result_clf = clf.fit(x_train, y_train)\n",
    "\n",
    "y_pred = result_clf.predict(x_test)\n",
    "\n",
    "from sklearn.metrics import confusion_matrix, accuracy_score, precision_score, recall_score, f1_score, roc_auc_score, roc_curve\n",
    "\n",
    "gini_score = lambda y_true,y_score: 2*roc_auc_score(y_true,y_score)-1\n",
    "\n",
    "score = clf.predict_proba(x_train)[:,1]\n",
    "\n",
    "print(confusion_matrix(y_test,y_pred))\n",
    "\n",
    "print('Acurácia: %.2f' % accuracy_score(y_test,y_pred))\n",
    "print(classification_report(y_test, y_pred))"
   ]
  },
  {
   "cell_type": "markdown",
   "id": "17e5c5d2",
   "metadata": {},
   "source": [
    "Agrupar classes target conforme a prioridade de identificação dado que as classes são desbalanceadas (ver porcentagens)\n",
    "remover municipio\n"
   ]
  },
  {
   "cell_type": "code",
   "execution_count": null,
   "id": "ac3f2a53",
   "metadata": {},
   "outputs": [],
   "source": []
  },
  {
   "cell_type": "code",
   "execution_count": null,
   "id": "9ff2a9d1",
   "metadata": {},
   "outputs": [],
   "source": []
  },
  {
   "cell_type": "code",
   "execution_count": null,
   "id": "bf37e5ac",
   "metadata": {},
   "outputs": [],
   "source": []
  },
  {
   "cell_type": "markdown",
   "id": "57a923fe",
   "metadata": {},
   "source": [
    "teste com undersampling e com classes reduzidas"
   ]
  },
  {
   "cell_type": "code",
   "execution_count": 30,
   "id": "15da5b84",
   "metadata": {},
   "outputs": [],
   "source": [
    "model = clf\n",
    "dfT = pd.read_csv('SARESP_test.csv')\n",
    "\n",
    "dfT = dfT.dropna(axis=1, thresh=int(len(dfT)/10), how=\"Any\")\n",
    "\n",
    "dfT.loc[dfT[\"nivel_profic_mat\"] == \"Avançado\", \"nivel_profic_mat\"] = 'Adequado'\n",
    "\n",
    "\n",
    "dfT = CA.typeEncoder(dfT,'object')\n",
    "\n",
    "\n",
    "dfT = CA.typeEncoder(dfT,'object')\n",
    "\n",
    "\n",
    "\n",
    "dataTrain = dfT.drop(['porc_ACERT_lp'],axis=1)\n",
    "dataTrain = dataTrain.drop(['porc_ACERT_MAT'],axis=1)\n",
    "dataTrain = dataTrain.drop(['porc_ACERT_CIE'],axis=1)\n",
    "#dataTrain = dataTrain.drop(['nivel_profic_lp'],axis=1)\n",
    "#dataTrain = dataTrain.drop(['nivel_profic_mat'],axis=1)\n",
    "dataTrain = dataTrain.drop(['nivel_profic_cie'],axis=1)\n",
    "\n",
    "dataTrain = dataTrain.drop(['CD_ALUNO'],axis=1)\n",
    "dataTrain = dataTrain.drop(['NOMESC'],axis=1)\n",
    "dataTrain = dataTrain.drop(['MUN'],axis=1)\n",
    "\n",
    "\n",
    "\n",
    "x_test = dataTrain.drop(['nivel_profic_mat'],axis=1)\n",
    "y_test = dataTrain['nivel_profic_mat']"
   ]
  },
  {
   "cell_type": "markdown",
   "id": "4e090913",
   "metadata": {},
   "source": [
    "teste sem undersampling e com classes reduzidas"
   ]
  },
  {
   "cell_type": "code",
   "execution_count": 36,
   "id": "467fee6e",
   "metadata": {},
   "outputs": [],
   "source": [
    "model = clf\n",
    "dfT = pd.read_csv('SARESP_test.csv')\n",
    "\n",
    "dfT = dfT.dropna(axis=1, thresh=int(len(dfT)/10), how=\"Any\")\n",
    "\n",
    "dfT.loc[dfT[\"nivel_profic_mat\"] == \"Avançado\", \"nivel_profic_mat\"] = 'Adequado'\n",
    "\n",
    "\n",
    "dfT = CA.typeEncoder(dfT,'object')\n",
    "\n",
    "\n",
    "dfT = CA.typeEncoder(dfT,'object')\n",
    "\n",
    "\n",
    "\n",
    "dataTrain = dfT.drop(['porc_ACERT_lp'],axis=1)\n",
    "dataTrain = dataTrain.drop(['porc_ACERT_MAT'],axis=1)\n",
    "dataTrain = dataTrain.drop(['porc_ACERT_CIE'],axis=1)\n",
    "#dataTrain = dataTrain.drop(['nivel_profic_lp'],axis=1)\n",
    "#dataTrain = dataTrain.drop(['nivel_profic_mat'],axis=1)\n",
    "dataTrain = dataTrain.drop(['nivel_profic_cie'],axis=1)\n",
    "\n",
    "dataTrain = dataTrain.drop(['CD_ALUNO'],axis=1)\n",
    "dataTrain = dataTrain.drop(['NOMESC'],axis=1)\n",
    "dataTrain = dataTrain.drop(['MUN'],axis=1)\n",
    "\n",
    "\n",
    "\n",
    "x_test = dataTrain.drop(['nivel_profic_mat'],axis=1)\n",
    "y_test = dataTrain['nivel_profic_mat']"
   ]
  },
  {
   "cell_type": "markdown",
   "id": "c98af47b",
   "metadata": {},
   "source": [
    "teste sem undersampling e sem classes reduzidas"
   ]
  },
  {
   "cell_type": "code",
   "execution_count": 22,
   "id": "63bd7690",
   "metadata": {},
   "outputs": [],
   "source": [
    "model = clf\n",
    "dfT = pd.read_csv('SARESP_test.csv')\n",
    "\n",
    "dfT = dfT.dropna(axis=1, thresh=int(len(dfT)/10), how=\"Any\")\n",
    "\n",
    "dfT = CA.typeEncoder(dfT,'object')\n",
    "\n",
    "\n",
    "dfT = CA.typeEncoder(dfT,'object')\n",
    "\n",
    "\n",
    "\n",
    "dataTrain = dfT.drop(['porc_ACERT_lp'],axis=1)\n",
    "dataTrain = dataTrain.drop(['porc_ACERT_MAT'],axis=1)\n",
    "dataTrain = dataTrain.drop(['porc_ACERT_CIE'],axis=1)\n",
    "#dataTrain = dataTrain.drop(['nivel_profic_lp'],axis=1)\n",
    "#dataTrain = dataTrain.drop(['nivel_profic_mat'],axis=1)\n",
    "dataTrain = dataTrain.drop(['nivel_profic_cie'],axis=1)\n",
    "\n",
    "dataTrain = dataTrain.drop(['CD_ALUNO'],axis=1)\n",
    "dataTrain = dataTrain.drop(['NOMESC'],axis=1)\n",
    "dataTrain = dataTrain.drop(['MUN'],axis=1)\n",
    "\n",
    "\n",
    "\n",
    "x_test = dataTrain.drop(['nivel_profic_mat'],axis=1)\n",
    "y_test = dataTrain['nivel_profic_mat']"
   ]
  },
  {
   "cell_type": "code",
   "execution_count": 37,
   "id": "1edd5373",
   "metadata": {},
   "outputs": [],
   "source": [
    "y_pred = model.predict(x_test)"
   ]
  },
  {
   "cell_type": "markdown",
   "id": "8694af69",
   "metadata": {},
   "source": [
    "com com "
   ]
  },
  {
   "cell_type": "code",
   "execution_count": 32,
   "id": "b4e171b4",
   "metadata": {},
   "outputs": [
    {
     "name": "stdout",
     "output_type": "stream",
     "text": [
      "[[207  29 166]\n",
      " [  4 104  67]\n",
      " [ 97  87 239]]\n",
      "Acurácia: 0.55\n",
      "              precision    recall  f1-score   support\n",
      "\n",
      "           0       0.67      0.51      0.58       402\n",
      "           1       0.47      0.59      0.53       175\n",
      "           2       0.51      0.57      0.53       423\n",
      "\n",
      "    accuracy                           0.55      1000\n",
      "   macro avg       0.55      0.56      0.55      1000\n",
      "weighted avg       0.57      0.55      0.55      1000\n",
      "\n"
     ]
    }
   ],
   "source": [
    "from sklearn.metrics import confusion_matrix, accuracy_score, precision_score, recall_score, f1_score, roc_auc_score, roc_curve\n",
    "\n",
    "gini_score = lambda y_true,y_score: 2*roc_auc_score(y_true,y_score)-1\n",
    "\n",
    "score = model.predict_proba(x_train)[:,1]\n",
    "\n",
    "print(confusion_matrix(y_test,y_pred))\n",
    "\n",
    "print('Acurácia: %.2f' % accuracy_score(y_test,y_pred))\n",
    "print(classification_report(y_test, y_pred))"
   ]
  },
  {
   "cell_type": "markdown",
   "id": "95d26cfd",
   "metadata": {},
   "source": [
    "sem com"
   ]
  },
  {
   "cell_type": "code",
   "execution_count": 38,
   "id": "b2c4b237",
   "metadata": {},
   "outputs": [
    {
     "name": "stdout",
     "output_type": "stream",
     "text": [
      "[[231  14 157]\n",
      " [  6  71  98]\n",
      " [124  52 247]]\n",
      "Acurácia: 0.55\n",
      "              precision    recall  f1-score   support\n",
      "\n",
      "           0       0.64      0.57      0.61       402\n",
      "           1       0.52      0.41      0.46       175\n",
      "           2       0.49      0.58      0.53       423\n",
      "\n",
      "    accuracy                           0.55      1000\n",
      "   macro avg       0.55      0.52      0.53      1000\n",
      "weighted avg       0.56      0.55      0.55      1000\n",
      "\n"
     ]
    }
   ],
   "source": [
    "from sklearn.metrics import confusion_matrix, accuracy_score, precision_score, recall_score, f1_score, roc_auc_score, roc_curve\n",
    "\n",
    "gini_score = lambda y_true,y_score: 2*roc_auc_score(y_true,y_score)-1\n",
    "\n",
    "score = model.predict_proba(x_train)[:,1]\n",
    "\n",
    "print(confusion_matrix(y_test,y_pred))\n",
    "\n",
    "print('Acurácia: %.2f' % accuracy_score(y_test,y_pred))\n",
    "print(classification_report(y_test, y_pred))"
   ]
  },
  {
   "cell_type": "markdown",
   "id": "07315764",
   "metadata": {},
   "source": [
    "sem sem "
   ]
  },
  {
   "cell_type": "code",
   "execution_count": 24,
   "id": "ed3578e8",
   "metadata": {},
   "outputs": [
    {
     "name": "stdout",
     "output_type": "stream",
     "text": [
      "[[230   9   1 162]\n",
      " [  5  40   0  89]\n",
      " [  1  17   0  23]\n",
      " [123  34   0 266]]\n",
      "Acurácia: 0.54\n",
      "              precision    recall  f1-score   support\n",
      "\n",
      "           0       0.64      0.57      0.60       402\n",
      "           1       0.40      0.30      0.34       134\n",
      "           2       0.00      0.00      0.00        41\n",
      "           3       0.49      0.63      0.55       423\n",
      "\n",
      "    accuracy                           0.54      1000\n",
      "   macro avg       0.38      0.37      0.37      1000\n",
      "weighted avg       0.52      0.54      0.52      1000\n",
      "\n"
     ]
    }
   ],
   "source": [
    "from sklearn.metrics import confusion_matrix, accuracy_score, precision_score, recall_score, f1_score, roc_auc_score, roc_curve\n",
    "\n",
    "gini_score = lambda y_true,y_score: 2*roc_auc_score(y_true,y_score)-1\n",
    "\n",
    "score = model.predict_proba(x_train)[:,1]\n",
    "\n",
    "print(confusion_matrix(y_test,y_pred))\n",
    "\n",
    "print('Acurácia: %.2f' % accuracy_score(y_test,y_pred))\n",
    "print(classification_report(y_test, y_pred))"
   ]
  },
  {
   "cell_type": "code",
   "execution_count": null,
   "id": "4ebbbc26",
   "metadata": {},
   "outputs": [],
   "source": []
  }
 ],
 "metadata": {
  "kernelspec": {
   "display_name": "Python 3 (ipykernel)",
   "language": "python",
   "name": "python3"
  },
  "language_info": {
   "codemirror_mode": {
    "name": "ipython",
    "version": 3
   },
   "file_extension": ".py",
   "mimetype": "text/x-python",
   "name": "python",
   "nbconvert_exporter": "python",
   "pygments_lexer": "ipython3",
   "version": "3.10.2"
  }
 },
 "nbformat": 4,
 "nbformat_minor": 5
}
